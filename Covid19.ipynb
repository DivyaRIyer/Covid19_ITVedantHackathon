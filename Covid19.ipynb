{
  "nbformat": 4,
  "nbformat_minor": 0,
  "metadata": {
    "colab": {
      "name": "Covid19.ipynb",
      "provenance": [],
      "collapsed_sections": [],
      "authorship_tag": "ABX9TyNz4kM5V9Ok17TvkjWdTUoE",
      "include_colab_link": true
    },
    "kernelspec": {
      "name": "python3",
      "display_name": "Python 3"
    }
  },
  "cells": [
    {
      "cell_type": "markdown",
      "metadata": {
        "id": "view-in-github",
        "colab_type": "text"
      },
      "source": [
        "<a href=\"https://colab.research.google.com/github/DivyaRIyer/Covid19_ITVedantHackathon/blob/main/Covid19.ipynb\" target=\"_parent\"><img src=\"https://colab.research.google.com/assets/colab-badge.svg\" alt=\"Open In Colab\"/></a>"
      ]
    },
    {
      "cell_type": "code",
      "metadata": {
        "id": "KVdHacfVCiUO"
      },
      "source": [
        "import warnings\r\n",
        "warnings.filterwarnings('ignore')\r\n",
        "\r\n",
        "import pandas as pd\r\n",
        "import numpy as np\r\n",
        "import matplotlib.pyplot as plt\r\n",
        "import seaborn as sns"
      ],
      "execution_count": 131,
      "outputs": []
    },
    {
      "cell_type": "markdown",
      "metadata": {
        "id": "08VQECR7EXrI"
      },
      "source": [
        "Reading all the datasets"
      ]
    },
    {
      "cell_type": "code",
      "metadata": {
        "id": "Obr1Vt6fEUZW"
      },
      "source": [
        "AgeGroupDetails = pd.read_csv('AgeGroupDetails.csv')\r\n",
        "HospitalBedsIndia = pd.read_csv('HospitalBedsIndia.csv')\r\n",
        "ICMRTestingDetails = pd.read_csv('ICMRTestingDetails.csv')\r\n",
        "ICMRTestingLabs = pd.read_csv('ICMRTestingLabs.csv')\r\n",
        "IndividualDetails = pd.read_csv('IndividualDetails.csv')\r\n",
        "covid_19_india = pd.read_csv('covid_19_india.csv')\r\n",
        "population_india_census2011 = pd.read_csv('population_india_census2011.csv')"
      ],
      "execution_count": 132,
      "outputs": []
    },
    {
      "cell_type": "markdown",
      "metadata": {
        "id": "54e4eiJ4F6hG"
      },
      "source": [
        "Getting to know each dataset & Cleaning"
      ]
    },
    {
      "cell_type": "code",
      "metadata": {
        "colab": {
          "base_uri": "https://localhost:8080/",
          "height": 359
        },
        "id": "HwPyWMU3F4wC",
        "outputId": "854cab03-bbf5-48e1-9a80-ec6bb71888d1"
      },
      "source": [
        "AgeGroupDetails.head(15)"
      ],
      "execution_count": 133,
      "outputs": [
        {
          "output_type": "execute_result",
          "data": {
            "text/html": [
              "<div>\n",
              "<style scoped>\n",
              "    .dataframe tbody tr th:only-of-type {\n",
              "        vertical-align: middle;\n",
              "    }\n",
              "\n",
              "    .dataframe tbody tr th {\n",
              "        vertical-align: top;\n",
              "    }\n",
              "\n",
              "    .dataframe thead th {\n",
              "        text-align: right;\n",
              "    }\n",
              "</style>\n",
              "<table border=\"1\" class=\"dataframe\">\n",
              "  <thead>\n",
              "    <tr style=\"text-align: right;\">\n",
              "      <th></th>\n",
              "      <th>Sno</th>\n",
              "      <th>AgeGroup</th>\n",
              "      <th>TotalCases</th>\n",
              "      <th>Percentage</th>\n",
              "    </tr>\n",
              "  </thead>\n",
              "  <tbody>\n",
              "    <tr>\n",
              "      <th>0</th>\n",
              "      <td>1</td>\n",
              "      <td>0-9</td>\n",
              "      <td>22</td>\n",
              "      <td>3.18%</td>\n",
              "    </tr>\n",
              "    <tr>\n",
              "      <th>1</th>\n",
              "      <td>2</td>\n",
              "      <td>10-19</td>\n",
              "      <td>27</td>\n",
              "      <td>3.90%</td>\n",
              "    </tr>\n",
              "    <tr>\n",
              "      <th>2</th>\n",
              "      <td>3</td>\n",
              "      <td>20-29</td>\n",
              "      <td>172</td>\n",
              "      <td>24.86%</td>\n",
              "    </tr>\n",
              "    <tr>\n",
              "      <th>3</th>\n",
              "      <td>4</td>\n",
              "      <td>30-39</td>\n",
              "      <td>146</td>\n",
              "      <td>21.10%</td>\n",
              "    </tr>\n",
              "    <tr>\n",
              "      <th>4</th>\n",
              "      <td>5</td>\n",
              "      <td>40-49</td>\n",
              "      <td>112</td>\n",
              "      <td>16.18%</td>\n",
              "    </tr>\n",
              "    <tr>\n",
              "      <th>5</th>\n",
              "      <td>6</td>\n",
              "      <td>50-59</td>\n",
              "      <td>77</td>\n",
              "      <td>11.13%</td>\n",
              "    </tr>\n",
              "    <tr>\n",
              "      <th>6</th>\n",
              "      <td>7</td>\n",
              "      <td>60-69</td>\n",
              "      <td>89</td>\n",
              "      <td>12.86%</td>\n",
              "    </tr>\n",
              "    <tr>\n",
              "      <th>7</th>\n",
              "      <td>8</td>\n",
              "      <td>70-79</td>\n",
              "      <td>28</td>\n",
              "      <td>4.05%</td>\n",
              "    </tr>\n",
              "    <tr>\n",
              "      <th>8</th>\n",
              "      <td>9</td>\n",
              "      <td>&gt;=80</td>\n",
              "      <td>10</td>\n",
              "      <td>1.45%</td>\n",
              "    </tr>\n",
              "    <tr>\n",
              "      <th>9</th>\n",
              "      <td>10</td>\n",
              "      <td>Missing</td>\n",
              "      <td>9</td>\n",
              "      <td>1.30%</td>\n",
              "    </tr>\n",
              "  </tbody>\n",
              "</table>\n",
              "</div>"
            ],
            "text/plain": [
              "   Sno AgeGroup  TotalCases Percentage\n",
              "0    1      0-9          22      3.18%\n",
              "1    2    10-19          27      3.90%\n",
              "2    3    20-29         172     24.86%\n",
              "3    4    30-39         146     21.10%\n",
              "4    5    40-49         112     16.18%\n",
              "5    6    50-59          77     11.13%\n",
              "6    7    60-69          89     12.86%\n",
              "7    8    70-79          28      4.05%\n",
              "8    9     >=80          10      1.45%\n",
              "9   10  Missing           9      1.30%"
            ]
          },
          "metadata": {
            "tags": []
          },
          "execution_count": 133
        }
      ]
    },
    {
      "cell_type": "markdown",
      "metadata": {
        "id": "ycSYMBF2VSOj"
      },
      "source": [
        "As frequency of cases is highest in age group 20-29, adding the missing category to 20-29 age group"
      ]
    },
    {
      "cell_type": "code",
      "metadata": {
        "colab": {
          "base_uri": "https://localhost:8080/",
          "height": 328
        },
        "id": "N67eIzZLRytW",
        "outputId": "63cb4c55-91ac-43d8-83c4-1a92412d6343"
      },
      "source": [
        "AgeGroupDetails.loc[(AgeGroupDetails['AgeGroup']=='20-29'),'TotalCases']=181\r\n",
        "AgeGroupDetails.loc[(AgeGroupDetails['AgeGroup']=='20-29'),'Percentage']='26.16%'\r\n",
        "AgeGroupDetails.drop(9,axis=0,inplace=True)\r\n",
        "AgeGroupDetails.head(10)"
      ],
      "execution_count": 134,
      "outputs": [
        {
          "output_type": "execute_result",
          "data": {
            "text/html": [
              "<div>\n",
              "<style scoped>\n",
              "    .dataframe tbody tr th:only-of-type {\n",
              "        vertical-align: middle;\n",
              "    }\n",
              "\n",
              "    .dataframe tbody tr th {\n",
              "        vertical-align: top;\n",
              "    }\n",
              "\n",
              "    .dataframe thead th {\n",
              "        text-align: right;\n",
              "    }\n",
              "</style>\n",
              "<table border=\"1\" class=\"dataframe\">\n",
              "  <thead>\n",
              "    <tr style=\"text-align: right;\">\n",
              "      <th></th>\n",
              "      <th>Sno</th>\n",
              "      <th>AgeGroup</th>\n",
              "      <th>TotalCases</th>\n",
              "      <th>Percentage</th>\n",
              "    </tr>\n",
              "  </thead>\n",
              "  <tbody>\n",
              "    <tr>\n",
              "      <th>0</th>\n",
              "      <td>1</td>\n",
              "      <td>0-9</td>\n",
              "      <td>22</td>\n",
              "      <td>3.18%</td>\n",
              "    </tr>\n",
              "    <tr>\n",
              "      <th>1</th>\n",
              "      <td>2</td>\n",
              "      <td>10-19</td>\n",
              "      <td>27</td>\n",
              "      <td>3.90%</td>\n",
              "    </tr>\n",
              "    <tr>\n",
              "      <th>2</th>\n",
              "      <td>3</td>\n",
              "      <td>20-29</td>\n",
              "      <td>181</td>\n",
              "      <td>26.16%</td>\n",
              "    </tr>\n",
              "    <tr>\n",
              "      <th>3</th>\n",
              "      <td>4</td>\n",
              "      <td>30-39</td>\n",
              "      <td>146</td>\n",
              "      <td>21.10%</td>\n",
              "    </tr>\n",
              "    <tr>\n",
              "      <th>4</th>\n",
              "      <td>5</td>\n",
              "      <td>40-49</td>\n",
              "      <td>112</td>\n",
              "      <td>16.18%</td>\n",
              "    </tr>\n",
              "    <tr>\n",
              "      <th>5</th>\n",
              "      <td>6</td>\n",
              "      <td>50-59</td>\n",
              "      <td>77</td>\n",
              "      <td>11.13%</td>\n",
              "    </tr>\n",
              "    <tr>\n",
              "      <th>6</th>\n",
              "      <td>7</td>\n",
              "      <td>60-69</td>\n",
              "      <td>89</td>\n",
              "      <td>12.86%</td>\n",
              "    </tr>\n",
              "    <tr>\n",
              "      <th>7</th>\n",
              "      <td>8</td>\n",
              "      <td>70-79</td>\n",
              "      <td>28</td>\n",
              "      <td>4.05%</td>\n",
              "    </tr>\n",
              "    <tr>\n",
              "      <th>8</th>\n",
              "      <td>9</td>\n",
              "      <td>&gt;=80</td>\n",
              "      <td>10</td>\n",
              "      <td>1.45%</td>\n",
              "    </tr>\n",
              "  </tbody>\n",
              "</table>\n",
              "</div>"
            ],
            "text/plain": [
              "   Sno AgeGroup  TotalCases Percentage\n",
              "0    1      0-9          22      3.18%\n",
              "1    2    10-19          27      3.90%\n",
              "2    3    20-29         181     26.16%\n",
              "3    4    30-39         146     21.10%\n",
              "4    5    40-49         112     16.18%\n",
              "5    6    50-59          77     11.13%\n",
              "6    7    60-69          89     12.86%\n",
              "7    8    70-79          28      4.05%\n",
              "8    9     >=80          10      1.45%"
            ]
          },
          "metadata": {
            "tags": []
          },
          "execution_count": 134
        }
      ]
    },
    {
      "cell_type": "code",
      "metadata": {
        "id": "4IB1HzOXW_qs"
      },
      "source": [
        "#Removing the % sign\r\n",
        "AgeGroupDetails['Percentage'] = AgeGroupDetails['Percentage'].str.rstrip('%').astype('float')"
      ],
      "execution_count": 135,
      "outputs": []
    },
    {
      "cell_type": "code",
      "metadata": {
        "id": "nkoM8espbfGq"
      },
      "source": [
        "AgeGroupDetails.drop('Sno',axis=1,inplace=True)"
      ],
      "execution_count": 136,
      "outputs": []
    },
    {
      "cell_type": "code",
      "metadata": {
        "colab": {
          "base_uri": "https://localhost:8080/",
          "height": 204
        },
        "id": "7qaaYhhcLr8I",
        "outputId": "754a313c-46c0-47d6-83fd-f3b12660c8b6"
      },
      "source": [
        "AgeGroupDetails.head()"
      ],
      "execution_count": 137,
      "outputs": [
        {
          "output_type": "execute_result",
          "data": {
            "text/html": [
              "<div>\n",
              "<style scoped>\n",
              "    .dataframe tbody tr th:only-of-type {\n",
              "        vertical-align: middle;\n",
              "    }\n",
              "\n",
              "    .dataframe tbody tr th {\n",
              "        vertical-align: top;\n",
              "    }\n",
              "\n",
              "    .dataframe thead th {\n",
              "        text-align: right;\n",
              "    }\n",
              "</style>\n",
              "<table border=\"1\" class=\"dataframe\">\n",
              "  <thead>\n",
              "    <tr style=\"text-align: right;\">\n",
              "      <th></th>\n",
              "      <th>AgeGroup</th>\n",
              "      <th>TotalCases</th>\n",
              "      <th>Percentage</th>\n",
              "    </tr>\n",
              "  </thead>\n",
              "  <tbody>\n",
              "    <tr>\n",
              "      <th>0</th>\n",
              "      <td>0-9</td>\n",
              "      <td>22</td>\n",
              "      <td>3.18</td>\n",
              "    </tr>\n",
              "    <tr>\n",
              "      <th>1</th>\n",
              "      <td>10-19</td>\n",
              "      <td>27</td>\n",
              "      <td>3.90</td>\n",
              "    </tr>\n",
              "    <tr>\n",
              "      <th>2</th>\n",
              "      <td>20-29</td>\n",
              "      <td>181</td>\n",
              "      <td>26.16</td>\n",
              "    </tr>\n",
              "    <tr>\n",
              "      <th>3</th>\n",
              "      <td>30-39</td>\n",
              "      <td>146</td>\n",
              "      <td>21.10</td>\n",
              "    </tr>\n",
              "    <tr>\n",
              "      <th>4</th>\n",
              "      <td>40-49</td>\n",
              "      <td>112</td>\n",
              "      <td>16.18</td>\n",
              "    </tr>\n",
              "  </tbody>\n",
              "</table>\n",
              "</div>"
            ],
            "text/plain": [
              "  AgeGroup  TotalCases  Percentage\n",
              "0      0-9          22        3.18\n",
              "1    10-19          27        3.90\n",
              "2    20-29         181       26.16\n",
              "3    30-39         146       21.10\n",
              "4    40-49         112       16.18"
            ]
          },
          "metadata": {
            "tags": []
          },
          "execution_count": 137
        }
      ]
    },
    {
      "cell_type": "markdown",
      "metadata": {
        "id": "kfHS65weNs1y"
      },
      "source": [
        "As frequency of cases is highest in age group 20-29, adding the missing category to 20-29 age group"
      ]
    },
    {
      "cell_type": "markdown",
      "metadata": {
        "id": "dQI1MPBeGxVz"
      },
      "source": [
        "As we have our working community within the age group 20 to 70 we can observe the percentage of covid cases are pretty high within these age groups "
      ]
    },
    {
      "cell_type": "code",
      "metadata": {
        "colab": {
          "base_uri": "https://localhost:8080/",
          "height": 309
        },
        "id": "U45iG4gbGOO4",
        "outputId": "6b5154bb-12d4-459b-94bf-863e8c6facbc"
      },
      "source": [
        "HospitalBedsIndia.head()"
      ],
      "execution_count": 138,
      "outputs": [
        {
          "output_type": "execute_result",
          "data": {
            "text/html": [
              "<div>\n",
              "<style scoped>\n",
              "    .dataframe tbody tr th:only-of-type {\n",
              "        vertical-align: middle;\n",
              "    }\n",
              "\n",
              "    .dataframe tbody tr th {\n",
              "        vertical-align: top;\n",
              "    }\n",
              "\n",
              "    .dataframe thead th {\n",
              "        text-align: right;\n",
              "    }\n",
              "</style>\n",
              "<table border=\"1\" class=\"dataframe\">\n",
              "  <thead>\n",
              "    <tr style=\"text-align: right;\">\n",
              "      <th></th>\n",
              "      <th>Sno</th>\n",
              "      <th>State/UT</th>\n",
              "      <th>NumPrimaryHealthCenters_HMIS</th>\n",
              "      <th>NumCommunityHealthCenters_HMIS</th>\n",
              "      <th>NumSubDistrictHospitals_HMIS</th>\n",
              "      <th>NumDistrictHospitals_HMIS</th>\n",
              "      <th>TotalPublicHealthFacilities_HMIS</th>\n",
              "      <th>NumPublicBeds_HMIS</th>\n",
              "      <th>NumRuralHospitals_NHP18</th>\n",
              "      <th>NumRuralBeds_NHP18</th>\n",
              "      <th>NumUrbanHospitals_NHP18</th>\n",
              "      <th>NumUrbanBeds_NHP18</th>\n",
              "      <th>Unnamed: 12</th>\n",
              "      <th>Unnamed: 13</th>\n",
              "    </tr>\n",
              "  </thead>\n",
              "  <tbody>\n",
              "    <tr>\n",
              "      <th>0</th>\n",
              "      <td>1.0</td>\n",
              "      <td>Andaman &amp; Nicobar Islands</td>\n",
              "      <td>27</td>\n",
              "      <td>4</td>\n",
              "      <td>NaN</td>\n",
              "      <td>3</td>\n",
              "      <td>34</td>\n",
              "      <td>1246</td>\n",
              "      <td>27.0</td>\n",
              "      <td>575.0</td>\n",
              "      <td>3.0</td>\n",
              "      <td>500.0</td>\n",
              "      <td>NaN</td>\n",
              "      <td>NaN</td>\n",
              "    </tr>\n",
              "    <tr>\n",
              "      <th>1</th>\n",
              "      <td>2.0</td>\n",
              "      <td>Andhra Pradesh</td>\n",
              "      <td>1417</td>\n",
              "      <td>198</td>\n",
              "      <td>31</td>\n",
              "      <td>20</td>\n",
              "      <td>1666</td>\n",
              "      <td>60799</td>\n",
              "      <td>193.0</td>\n",
              "      <td>6480.0</td>\n",
              "      <td>65.0</td>\n",
              "      <td>16658.0</td>\n",
              "      <td>NaN</td>\n",
              "      <td>NaN</td>\n",
              "    </tr>\n",
              "    <tr>\n",
              "      <th>2</th>\n",
              "      <td>3.0</td>\n",
              "      <td>Arunachal Pradesh</td>\n",
              "      <td>122</td>\n",
              "      <td>62</td>\n",
              "      <td>NaN</td>\n",
              "      <td>15</td>\n",
              "      <td>199</td>\n",
              "      <td>2320</td>\n",
              "      <td>208.0</td>\n",
              "      <td>2136.0</td>\n",
              "      <td>10.0</td>\n",
              "      <td>268.0</td>\n",
              "      <td>NaN</td>\n",
              "      <td>NaN</td>\n",
              "    </tr>\n",
              "    <tr>\n",
              "      <th>3</th>\n",
              "      <td>4.0</td>\n",
              "      <td>Assam</td>\n",
              "      <td>1007</td>\n",
              "      <td>166</td>\n",
              "      <td>14</td>\n",
              "      <td>33</td>\n",
              "      <td>1220</td>\n",
              "      <td>19115</td>\n",
              "      <td>1176.0</td>\n",
              "      <td>10944.0</td>\n",
              "      <td>50.0</td>\n",
              "      <td>6198.0</td>\n",
              "      <td>NaN</td>\n",
              "      <td>NaN</td>\n",
              "    </tr>\n",
              "    <tr>\n",
              "      <th>4</th>\n",
              "      <td>5.0</td>\n",
              "      <td>Bihar</td>\n",
              "      <td>2007</td>\n",
              "      <td>63</td>\n",
              "      <td>33</td>\n",
              "      <td>43</td>\n",
              "      <td>2146</td>\n",
              "      <td>17796</td>\n",
              "      <td>930.0</td>\n",
              "      <td>6083.0</td>\n",
              "      <td>103.0</td>\n",
              "      <td>5936.0</td>\n",
              "      <td>NaN</td>\n",
              "      <td>NaN</td>\n",
              "    </tr>\n",
              "  </tbody>\n",
              "</table>\n",
              "</div>"
            ],
            "text/plain": [
              "   Sno                   State/UT  ... Unnamed: 12 Unnamed: 13\n",
              "0  1.0  Andaman & Nicobar Islands  ...         NaN         NaN\n",
              "1  2.0             Andhra Pradesh  ...         NaN         NaN\n",
              "2  3.0          Arunachal Pradesh  ...         NaN         NaN\n",
              "3  4.0                      Assam  ...         NaN         NaN\n",
              "4  5.0                      Bihar  ...         NaN         NaN\n",
              "\n",
              "[5 rows x 14 columns]"
            ]
          },
          "metadata": {
            "tags": []
          },
          "execution_count": 138
        }
      ]
    },
    {
      "cell_type": "code",
      "metadata": {
        "colab": {
          "base_uri": "https://localhost:8080/"
        },
        "id": "Qe6wjQcUbGI0",
        "outputId": "9e01f294-f8c1-4124-a6a2-41ba4d9d4cf0"
      },
      "source": [
        "HospitalBedsIndia.info()"
      ],
      "execution_count": 139,
      "outputs": [
        {
          "output_type": "stream",
          "text": [
            "<class 'pandas.core.frame.DataFrame'>\n",
            "RangeIndex: 38 entries, 0 to 37\n",
            "Data columns (total 14 columns):\n",
            " #   Column                            Non-Null Count  Dtype  \n",
            "---  ------                            --------------  -----  \n",
            " 0   Sno                               37 non-null     float64\n",
            " 1   State/UT                          37 non-null     object \n",
            " 2   NumPrimaryHealthCenters_HMIS      37 non-null     object \n",
            " 3   NumCommunityHealthCenters_HMIS    37 non-null     object \n",
            " 4   NumSubDistrictHospitals_HMIS      30 non-null     object \n",
            " 5   NumDistrictHospitals_HMIS         37 non-null     object \n",
            " 6   TotalPublicHealthFacilities_HMIS  37 non-null     object \n",
            " 7   NumPublicBeds_HMIS                37 non-null     object \n",
            " 8   NumRuralHospitals_NHP18           37 non-null     float64\n",
            " 9   NumRuralBeds_NHP18                37 non-null     float64\n",
            " 10  NumUrbanHospitals_NHP18           37 non-null     float64\n",
            " 11  NumUrbanBeds_NHP18                37 non-null     float64\n",
            " 12  Unnamed: 12                       0 non-null      float64\n",
            " 13  Unnamed: 13                       0 non-null      float64\n",
            "dtypes: float64(7), object(7)\n",
            "memory usage: 4.3+ KB\n"
          ],
          "name": "stdout"
        }
      ]
    },
    {
      "cell_type": "markdown",
      "metadata": {
        "id": "8J-78RmVbOSH"
      },
      "source": [
        "Column NumSubDistrictHospitals_HMIS has few missing values, Column 12 and 13 has all the values missing hence has to be dropped"
      ]
    },
    {
      "cell_type": "code",
      "metadata": {
        "id": "ZDAjxlTybv68"
      },
      "source": [
        "HospitalBedsIndia.drop(HospitalBedsIndia[['Sno','Unnamed: 12','Unnamed: 13']],axis=1,inplace=True)"
      ],
      "execution_count": 140,
      "outputs": []
    },
    {
      "cell_type": "markdown",
      "metadata": {
        "id": "P6KPJdBRcCyw"
      },
      "source": [
        "Handling missing values / Junk Values"
      ]
    },
    {
      "cell_type": "code",
      "metadata": {
        "colab": {
          "base_uri": "https://localhost:8080/"
        },
        "id": "Q7WDvs-NcGhL",
        "outputId": "fc078b43-9071-4afc-c765-01a781bd8b1c"
      },
      "source": [
        "HospitalBedsIndia['NumPrimaryHealthCenters_HMIS'].unique()"
      ],
      "execution_count": 141,
      "outputs": [
        {
          "output_type": "execute_result",
          "data": {
            "text/plain": [
              "array(['27', '1417', '122', '1007', '2007', '40', '813', '9', '4', '534',\n",
              "       '31', '1770', '500', '516', '702', '343', '2547', '933', '1420',\n",
              "       '2638', '87', '138', '65', '134', '1360', '521', '2463', '25',\n",
              "       '1854', '788', '114', '3277', '275', '1374', '29,899', nan],\n",
              "      dtype=object)"
            ]
          },
          "metadata": {
            "tags": []
          },
          "execution_count": 141
        }
      ]
    },
    {
      "cell_type": "code",
      "metadata": {
        "colab": {
          "base_uri": "https://localhost:8080/"
        },
        "id": "vM8dSSiecZbE",
        "outputId": "45b96099-bde0-4806-fb39-a26a858dac60"
      },
      "source": [
        "HospitalBedsIndia['NumCommunityHealthCenters_HMIS'].unique()"
      ],
      "execution_count": 142,
      "outputs": [
        {
          "output_type": "execute_result",
          "data": {
            "text/plain": [
              "array(['4', '198', '62', '166', '63', '2', '25', '385', '131', '79', '87',\n",
              "       '179', '207', '229', '3', '324', '430', '17', '29', '10', '21',\n",
              "       '377', '146', '579', '82', '22', '671', '69', '406', '5,568', nan],\n",
              "      dtype=object)"
            ]
          },
          "metadata": {
            "tags": []
          },
          "execution_count": 142
        }
      ]
    },
    {
      "cell_type": "code",
      "metadata": {
        "colab": {
          "base_uri": "https://localhost:8080/"
        },
        "id": "r86VYwlrckCq",
        "outputId": "ce5d319d-b36f-4878-93e4-30d9343bd470"
      },
      "source": [
        "HospitalBedsIndia['NumSubDistrictHospitals_HMIS'].unique()"
      ],
      "execution_count": 143,
      "outputs": [
        {
          "output_type": "execute_result",
          "data": {
            "text/plain": [
              "array([nan, '31', '14', '33', '1', '12', '9', '2', '44', '24', '61', '13',\n",
              "       '147', '82', '72', '101', '3', '27', '5', '47', '64', '310', '19',\n",
              "       '70', '1,255'], dtype=object)"
            ]
          },
          "metadata": {
            "tags": []
          },
          "execution_count": 143
        }
      ]
    },
    {
      "cell_type": "markdown",
      "metadata": {
        "id": "UgkAXJpAcuqb"
      },
      "source": [
        "NumSubDistrictHospitals_HMIS      30 non-null     object \r\n",
        " 5   NumDistrictHospitals_HMIS         37 non-null     object \r\n",
        " 6   TotalPublicHealthFacilities_HMIS  37 non-null     object \r\n",
        " 7   NumPublicBeds_HMIS"
      ]
    },
    {
      "cell_type": "code",
      "metadata": {
        "colab": {
          "base_uri": "https://localhost:8080/"
        },
        "id": "8bbZMXvYcwdU",
        "outputId": "2907c233-b6e1-4b8a-cee2-024b9652df71"
      },
      "source": [
        "HospitalBedsIndia['NumDistrictHospitals_HMIS'].unique()"
      ],
      "execution_count": 144,
      "outputs": [
        {
          "output_type": "execute_result",
          "data": {
            "text/plain": [
              "array(['3', '20', '15', '33', '43', '4', '32', '1', '2', '47', '37', '28',\n",
              "       '29', '23', '42', '53', '51', '70', '9', '13', '11', '35', '174',\n",
              "       '55', '1,003', nan], dtype=object)"
            ]
          },
          "metadata": {
            "tags": []
          },
          "execution_count": 144
        }
      ]
    },
    {
      "cell_type": "code",
      "metadata": {
        "colab": {
          "base_uri": "https://localhost:8080/"
        },
        "id": "EnP6GkV-c39e",
        "outputId": "02a98456-fc99-4f87-b6d4-fd9f11875992"
      },
      "source": [
        "HospitalBedsIndia['TotalPublicHealthFacilities_HMIS'].unique()"
      ],
      "execution_count": 145,
      "outputs": [
        {
          "output_type": "execute_result",
          "data": {
            "text/plain": [
              "array(['34', '1666', '199', '1220', '2146', '47', '1023', '13', '8',\n",
              "       '615', '40', '2236', '683', '671', '818', '558', '2943', '1297',\n",
              "       '10', '1867', '3239', '114', '180', '87', '166', '1799', '53',\n",
              "       '742', '3139', '32', '2581', '932', '157', '4122', '383', '1905',\n",
              "       '37,725', nan], dtype=object)"
            ]
          },
          "metadata": {
            "tags": []
          },
          "execution_count": 145
        }
      ]
    },
    {
      "cell_type": "code",
      "metadata": {
        "colab": {
          "base_uri": "https://localhost:8080/"
        },
        "id": "khSZlwa4c-M6",
        "outputId": "305f3ab0-faa8-44e6-aec9-2f565217d326"
      },
      "source": [
        "HospitalBedsIndia['NumPublicBeds_HMIS'].unique()"
      ],
      "execution_count": 146,
      "outputs": [
        {
          "output_type": "execute_result",
          "data": {
            "text/plain": [
              "array(['1246', '60799', '2320', '19115', '17796', '3756', '14354', '568',\n",
              "       '298', '20572', '2666', '41129', '13841', '8706', '11342', '7404',\n",
              "       '56333', '39511', '250', '38140', '68998', '2562', '4585', '2312',\n",
              "       '1944', '16497', '4462', '13527', '51844', '1145', '72616',\n",
              "       '17358', '4895', '58310', '6660', '51163', '7,39,024', nan],\n",
              "      dtype=object)"
            ]
          },
          "metadata": {
            "tags": []
          },
          "execution_count": 146
        }
      ]
    },
    {
      "cell_type": "markdown",
      "metadata": {
        "id": "wIexeVVDdtDF"
      },
      "source": [
        "All the above column has missing values"
      ]
    },
    {
      "cell_type": "code",
      "metadata": {
        "id": "wEETZBv-d9ql"
      },
      "source": [
        "#Columns with nan values\r\n",
        "columns = ['NumPrimaryHealthCenters_HMIS','NumCommunityHealthCenters_HMIS','NumSubDistrictHospitals_HMIS','NumDistrictHospitals_HMIS','TotalPublicHealthFacilities_HMIS','NumPublicBeds_HMIS']"
      ],
      "execution_count": 147,
      "outputs": []
    },
    {
      "cell_type": "code",
      "metadata": {
        "colab": {
          "base_uri": "https://localhost:8080/"
        },
        "id": "Jh4Ij88CeeYi",
        "outputId": "40f26d24-09d8-4771-95d1-8eb9e10570ed"
      },
      "source": [
        "for column in columns:\r\n",
        "  HospitalBedsIndia[column] = HospitalBedsIndia[column].str.replace(',','').astype(float)\r\n",
        "  print(\"Column: {}\".format(column),end='  ')\r\n",
        "  print(\"Mean : {}\".format(HospitalBedsIndia[column].mean()),end=',')\r\n",
        "  print(\"Median : {}\".format(HospitalBedsIndia[column].median()))"
      ],
      "execution_count": 148,
      "outputs": [
        {
          "output_type": "stream",
          "text": [
            "Column: NumPrimaryHealthCenters_HMIS  Mean : 1616.162162162162,Median : 521.0\n",
            "Column: NumCommunityHealthCenters_HMIS  Mean : 300.97297297297297,Median : 82.0\n",
            "Column: NumSubDistrictHospitals_HMIS  Mean : 83.66666666666667,Median : 25.5\n",
            "Column: NumDistrictHospitals_HMIS  Mean : 54.21621621621622,Median : 23.0\n",
            "Column: TotalPublicHealthFacilities_HMIS  Mean : 2039.1891891891892,Median : 683.0\n",
            "Column: NumPublicBeds_HMIS  Mean : 39947.24324324324,Median : 13527.0\n"
          ],
          "name": "stdout"
        }
      ]
    },
    {
      "cell_type": "markdown",
      "metadata": {
        "id": "7x8LnY7viR6z"
      },
      "source": [
        "Values in all the columns are highly skewed, replacing values with median"
      ]
    },
    {
      "cell_type": "code",
      "metadata": {
        "id": "km2AxeZqgWl5"
      },
      "source": [
        "for column in columns:\r\n",
        "  HospitalBedsIndia[column].fillna(HospitalBedsIndia[column].median(),inplace=True)"
      ],
      "execution_count": 149,
      "outputs": []
    },
    {
      "cell_type": "code",
      "metadata": {
        "colab": {
          "base_uri": "https://localhost:8080/"
        },
        "id": "cp4i-QWogs_W",
        "outputId": "a43ea06f-58ac-458f-a27f-0e38300a4c51"
      },
      "source": [
        "HospitalBedsIndia.info()"
      ],
      "execution_count": 150,
      "outputs": [
        {
          "output_type": "stream",
          "text": [
            "<class 'pandas.core.frame.DataFrame'>\n",
            "RangeIndex: 38 entries, 0 to 37\n",
            "Data columns (total 11 columns):\n",
            " #   Column                            Non-Null Count  Dtype  \n",
            "---  ------                            --------------  -----  \n",
            " 0   State/UT                          37 non-null     object \n",
            " 1   NumPrimaryHealthCenters_HMIS      38 non-null     float64\n",
            " 2   NumCommunityHealthCenters_HMIS    38 non-null     float64\n",
            " 3   NumSubDistrictHospitals_HMIS      38 non-null     float64\n",
            " 4   NumDistrictHospitals_HMIS         38 non-null     float64\n",
            " 5   TotalPublicHealthFacilities_HMIS  38 non-null     float64\n",
            " 6   NumPublicBeds_HMIS                38 non-null     float64\n",
            " 7   NumRuralHospitals_NHP18           37 non-null     float64\n",
            " 8   NumRuralBeds_NHP18                37 non-null     float64\n",
            " 9   NumUrbanHospitals_NHP18           37 non-null     float64\n",
            " 10  NumUrbanBeds_NHP18                37 non-null     float64\n",
            "dtypes: float64(10), object(1)\n",
            "memory usage: 3.4+ KB\n"
          ],
          "name": "stdout"
        }
      ]
    },
    {
      "cell_type": "code",
      "metadata": {
        "colab": {
          "base_uri": "https://localhost:8080/",
          "height": 100
        },
        "id": "Muj3wHJWg9Qp",
        "outputId": "cfa1333b-d1a2-42ac-908b-14f2a07c9a3c"
      },
      "source": [
        "HospitalBedsIndia[HospitalBedsIndia['NumUrbanBeds_NHP18'].isnull()]"
      ],
      "execution_count": 151,
      "outputs": [
        {
          "output_type": "execute_result",
          "data": {
            "text/html": [
              "<div>\n",
              "<style scoped>\n",
              "    .dataframe tbody tr th:only-of-type {\n",
              "        vertical-align: middle;\n",
              "    }\n",
              "\n",
              "    .dataframe tbody tr th {\n",
              "        vertical-align: top;\n",
              "    }\n",
              "\n",
              "    .dataframe thead th {\n",
              "        text-align: right;\n",
              "    }\n",
              "</style>\n",
              "<table border=\"1\" class=\"dataframe\">\n",
              "  <thead>\n",
              "    <tr style=\"text-align: right;\">\n",
              "      <th></th>\n",
              "      <th>State/UT</th>\n",
              "      <th>NumPrimaryHealthCenters_HMIS</th>\n",
              "      <th>NumCommunityHealthCenters_HMIS</th>\n",
              "      <th>NumSubDistrictHospitals_HMIS</th>\n",
              "      <th>NumDistrictHospitals_HMIS</th>\n",
              "      <th>TotalPublicHealthFacilities_HMIS</th>\n",
              "      <th>NumPublicBeds_HMIS</th>\n",
              "      <th>NumRuralHospitals_NHP18</th>\n",
              "      <th>NumRuralBeds_NHP18</th>\n",
              "      <th>NumUrbanHospitals_NHP18</th>\n",
              "      <th>NumUrbanBeds_NHP18</th>\n",
              "    </tr>\n",
              "  </thead>\n",
              "  <tbody>\n",
              "    <tr>\n",
              "      <th>37</th>\n",
              "      <td>NaN</td>\n",
              "      <td>521.0</td>\n",
              "      <td>82.0</td>\n",
              "      <td>25.5</td>\n",
              "      <td>23.0</td>\n",
              "      <td>683.0</td>\n",
              "      <td>13527.0</td>\n",
              "      <td>NaN</td>\n",
              "      <td>NaN</td>\n",
              "      <td>NaN</td>\n",
              "      <td>NaN</td>\n",
              "    </tr>\n",
              "  </tbody>\n",
              "</table>\n",
              "</div>"
            ],
            "text/plain": [
              "   State/UT  ...  NumUrbanBeds_NHP18\n",
              "37      NaN  ...                 NaN\n",
              "\n",
              "[1 rows x 11 columns]"
            ]
          },
          "metadata": {
            "tags": []
          },
          "execution_count": 151
        }
      ]
    },
    {
      "cell_type": "markdown",
      "metadata": {
        "id": "GOTDhZwFhu-l"
      },
      "source": [
        "We can observe the above row covers single missing value for all the rest columns, hence dropping the row"
      ]
    },
    {
      "cell_type": "code",
      "metadata": {
        "id": "7Bkr9d4jh5w3"
      },
      "source": [
        "HospitalBedsIndia.drop(37,axis=0,inplace=True)"
      ],
      "execution_count": 152,
      "outputs": []
    },
    {
      "cell_type": "code",
      "metadata": {
        "colab": {
          "base_uri": "https://localhost:8080/"
        },
        "id": "l6Rsb-tliKBS",
        "outputId": "b8153261-0908-4db4-9d70-cbabefe1a6b1"
      },
      "source": [
        "HospitalBedsIndia.info()"
      ],
      "execution_count": 153,
      "outputs": [
        {
          "output_type": "stream",
          "text": [
            "<class 'pandas.core.frame.DataFrame'>\n",
            "Int64Index: 37 entries, 0 to 36\n",
            "Data columns (total 11 columns):\n",
            " #   Column                            Non-Null Count  Dtype  \n",
            "---  ------                            --------------  -----  \n",
            " 0   State/UT                          37 non-null     object \n",
            " 1   NumPrimaryHealthCenters_HMIS      37 non-null     float64\n",
            " 2   NumCommunityHealthCenters_HMIS    37 non-null     float64\n",
            " 3   NumSubDistrictHospitals_HMIS      37 non-null     float64\n",
            " 4   NumDistrictHospitals_HMIS         37 non-null     float64\n",
            " 5   TotalPublicHealthFacilities_HMIS  37 non-null     float64\n",
            " 6   NumPublicBeds_HMIS                37 non-null     float64\n",
            " 7   NumRuralHospitals_NHP18           37 non-null     float64\n",
            " 8   NumRuralBeds_NHP18                37 non-null     float64\n",
            " 9   NumUrbanHospitals_NHP18           37 non-null     float64\n",
            " 10  NumUrbanBeds_NHP18                37 non-null     float64\n",
            "dtypes: float64(10), object(1)\n",
            "memory usage: 3.5+ KB\n"
          ],
          "name": "stdout"
        }
      ]
    },
    {
      "cell_type": "code",
      "metadata": {
        "colab": {
          "base_uri": "https://localhost:8080/",
          "height": 289
        },
        "id": "Vo7XGXb2GjRj",
        "outputId": "db9f1ed0-2535-46ca-a8dc-1a66f1bc7e7b"
      },
      "source": [
        "ICMRTestingDetails.head()"
      ],
      "execution_count": 154,
      "outputs": [
        {
          "output_type": "execute_result",
          "data": {
            "text/html": [
              "<div>\n",
              "<style scoped>\n",
              "    .dataframe tbody tr th:only-of-type {\n",
              "        vertical-align: middle;\n",
              "    }\n",
              "\n",
              "    .dataframe tbody tr th {\n",
              "        vertical-align: top;\n",
              "    }\n",
              "\n",
              "    .dataframe thead th {\n",
              "        text-align: right;\n",
              "    }\n",
              "</style>\n",
              "<table border=\"1\" class=\"dataframe\">\n",
              "  <thead>\n",
              "    <tr style=\"text-align: right;\">\n",
              "      <th></th>\n",
              "      <th>SNo</th>\n",
              "      <th>DateTime</th>\n",
              "      <th>TotalSamplesTested</th>\n",
              "      <th>TotalIndividualsTested</th>\n",
              "      <th>TotalPositiveCases</th>\n",
              "      <th>Source</th>\n",
              "    </tr>\n",
              "  </thead>\n",
              "  <tbody>\n",
              "    <tr>\n",
              "      <th>0</th>\n",
              "      <td>1</td>\n",
              "      <td>13/03/20 18:00</td>\n",
              "      <td>6500.0</td>\n",
              "      <td>5900.0</td>\n",
              "      <td>78.0</td>\n",
              "      <td>Press_Release_ICMR_13March2020.pdf</td>\n",
              "    </tr>\n",
              "    <tr>\n",
              "      <th>1</th>\n",
              "      <td>2</td>\n",
              "      <td>18/03/20 18:00</td>\n",
              "      <td>13125.0</td>\n",
              "      <td>12235.0</td>\n",
              "      <td>150.0</td>\n",
              "      <td>ICMR_website_update_18March_6PM_IST.pdf</td>\n",
              "    </tr>\n",
              "    <tr>\n",
              "      <th>2</th>\n",
              "      <td>3</td>\n",
              "      <td>19/03/20 18:00</td>\n",
              "      <td>14175.0</td>\n",
              "      <td>13285.0</td>\n",
              "      <td>182.0</td>\n",
              "      <td>ICMR_website_update_19March_6PM_IST.pdf</td>\n",
              "    </tr>\n",
              "    <tr>\n",
              "      <th>3</th>\n",
              "      <td>4</td>\n",
              "      <td>20/03/20 18:00</td>\n",
              "      <td>15404.0</td>\n",
              "      <td>14514.0</td>\n",
              "      <td>236.0</td>\n",
              "      <td>ICMR_website_update_20March_6PM_IST.pdf</td>\n",
              "    </tr>\n",
              "    <tr>\n",
              "      <th>4</th>\n",
              "      <td>5</td>\n",
              "      <td>21/03/20 18:00</td>\n",
              "      <td>16911.0</td>\n",
              "      <td>16021.0</td>\n",
              "      <td>315.0</td>\n",
              "      <td>ICMR_website_update_21March_6PM_IST.pdf</td>\n",
              "    </tr>\n",
              "  </tbody>\n",
              "</table>\n",
              "</div>"
            ],
            "text/plain": [
              "   SNo  ...                                   Source\n",
              "0    1  ...       Press_Release_ICMR_13March2020.pdf\n",
              "1    2  ...  ICMR_website_update_18March_6PM_IST.pdf\n",
              "2    3  ...  ICMR_website_update_19March_6PM_IST.pdf\n",
              "3    4  ...  ICMR_website_update_20March_6PM_IST.pdf\n",
              "4    5  ...  ICMR_website_update_21March_6PM_IST.pdf\n",
              "\n",
              "[5 rows x 6 columns]"
            ]
          },
          "metadata": {
            "tags": []
          },
          "execution_count": 154
        }
      ]
    },
    {
      "cell_type": "code",
      "metadata": {
        "colab": {
          "base_uri": "https://localhost:8080/"
        },
        "id": "GdVQBrPpiYXn",
        "outputId": "201bbd87-7d55-4be1-8716-b787096ff93e"
      },
      "source": [
        "ICMRTestingDetails.shape"
      ],
      "execution_count": 155,
      "outputs": [
        {
          "output_type": "execute_result",
          "data": {
            "text/plain": [
              "(24, 6)"
            ]
          },
          "metadata": {
            "tags": []
          },
          "execution_count": 155
        }
      ]
    },
    {
      "cell_type": "markdown",
      "metadata": {
        "id": "9VE2onlXjViR"
      },
      "source": [
        "Handling DateTime Column"
      ]
    },
    {
      "cell_type": "code",
      "metadata": {
        "id": "kSFqDPQyjYZY"
      },
      "source": [
        "ICMRTestingDetails['Dates'] = pd.to_datetime(ICMRTestingDetails['DateTime']).dt.date\r\n",
        "ICMRTestingDetails['Time'] = pd.to_datetime(ICMRTestingDetails['DateTime']).dt.time"
      ],
      "execution_count": 156,
      "outputs": []
    },
    {
      "cell_type": "code",
      "metadata": {
        "id": "OZrqUYqWjqfh"
      },
      "source": [
        "ICMRTestingDetails.drop('DateTime',axis=1,inplace=True)"
      ],
      "execution_count": 157,
      "outputs": []
    },
    {
      "cell_type": "markdown",
      "metadata": {
        "id": "lvt5b6U9j0cW"
      },
      "source": [
        "Removing columns SNo and Source"
      ]
    },
    {
      "cell_type": "code",
      "metadata": {
        "colab": {
          "base_uri": "https://localhost:8080/",
          "height": 204
        },
        "id": "0Sy1zctUj0DF",
        "outputId": "13538c00-f2e2-4aaa-d203-8568f59fe0da"
      },
      "source": [
        "ICMRTestingDetails.drop(ICMRTestingDetails[['SNo','Source']],axis=1,inplace=True)\r\n",
        "ICMRTestingDetails.head()"
      ],
      "execution_count": 158,
      "outputs": [
        {
          "output_type": "execute_result",
          "data": {
            "text/html": [
              "<div>\n",
              "<style scoped>\n",
              "    .dataframe tbody tr th:only-of-type {\n",
              "        vertical-align: middle;\n",
              "    }\n",
              "\n",
              "    .dataframe tbody tr th {\n",
              "        vertical-align: top;\n",
              "    }\n",
              "\n",
              "    .dataframe thead th {\n",
              "        text-align: right;\n",
              "    }\n",
              "</style>\n",
              "<table border=\"1\" class=\"dataframe\">\n",
              "  <thead>\n",
              "    <tr style=\"text-align: right;\">\n",
              "      <th></th>\n",
              "      <th>TotalSamplesTested</th>\n",
              "      <th>TotalIndividualsTested</th>\n",
              "      <th>TotalPositiveCases</th>\n",
              "      <th>Dates</th>\n",
              "      <th>Time</th>\n",
              "    </tr>\n",
              "  </thead>\n",
              "  <tbody>\n",
              "    <tr>\n",
              "      <th>0</th>\n",
              "      <td>6500.0</td>\n",
              "      <td>5900.0</td>\n",
              "      <td>78.0</td>\n",
              "      <td>2020-03-13</td>\n",
              "      <td>18:00:00</td>\n",
              "    </tr>\n",
              "    <tr>\n",
              "      <th>1</th>\n",
              "      <td>13125.0</td>\n",
              "      <td>12235.0</td>\n",
              "      <td>150.0</td>\n",
              "      <td>2020-03-18</td>\n",
              "      <td>18:00:00</td>\n",
              "    </tr>\n",
              "    <tr>\n",
              "      <th>2</th>\n",
              "      <td>14175.0</td>\n",
              "      <td>13285.0</td>\n",
              "      <td>182.0</td>\n",
              "      <td>2020-03-19</td>\n",
              "      <td>18:00:00</td>\n",
              "    </tr>\n",
              "    <tr>\n",
              "      <th>3</th>\n",
              "      <td>15404.0</td>\n",
              "      <td>14514.0</td>\n",
              "      <td>236.0</td>\n",
              "      <td>2020-03-20</td>\n",
              "      <td>18:00:00</td>\n",
              "    </tr>\n",
              "    <tr>\n",
              "      <th>4</th>\n",
              "      <td>16911.0</td>\n",
              "      <td>16021.0</td>\n",
              "      <td>315.0</td>\n",
              "      <td>2020-03-21</td>\n",
              "      <td>18:00:00</td>\n",
              "    </tr>\n",
              "  </tbody>\n",
              "</table>\n",
              "</div>"
            ],
            "text/plain": [
              "   TotalSamplesTested  TotalIndividualsTested  ...       Dates      Time\n",
              "0              6500.0                  5900.0  ...  2020-03-13  18:00:00\n",
              "1             13125.0                 12235.0  ...  2020-03-18  18:00:00\n",
              "2             14175.0                 13285.0  ...  2020-03-19  18:00:00\n",
              "3             15404.0                 14514.0  ...  2020-03-20  18:00:00\n",
              "4             16911.0                 16021.0  ...  2020-03-21  18:00:00\n",
              "\n",
              "[5 rows x 5 columns]"
            ]
          },
          "metadata": {
            "tags": []
          },
          "execution_count": 158
        }
      ]
    },
    {
      "cell_type": "code",
      "metadata": {
        "colab": {
          "base_uri": "https://localhost:8080/",
          "height": 357
        },
        "id": "tMg55wMPHljg",
        "outputId": "94f9cb77-2754-48bf-e94b-0eca73e54114"
      },
      "source": [
        "ICMRTestingLabs.head()"
      ],
      "execution_count": 159,
      "outputs": [
        {
          "output_type": "execute_result",
          "data": {
            "text/html": [
              "<div>\n",
              "<style scoped>\n",
              "    .dataframe tbody tr th:only-of-type {\n",
              "        vertical-align: middle;\n",
              "    }\n",
              "\n",
              "    .dataframe tbody tr th {\n",
              "        vertical-align: top;\n",
              "    }\n",
              "\n",
              "    .dataframe thead th {\n",
              "        text-align: right;\n",
              "    }\n",
              "</style>\n",
              "<table border=\"1\" class=\"dataframe\">\n",
              "  <thead>\n",
              "    <tr style=\"text-align: right;\">\n",
              "      <th></th>\n",
              "      <th>lab</th>\n",
              "      <th>address</th>\n",
              "      <th>pincode</th>\n",
              "      <th>city</th>\n",
              "      <th>state</th>\n",
              "      <th>type</th>\n",
              "    </tr>\n",
              "  </thead>\n",
              "  <tbody>\n",
              "    <tr>\n",
              "      <th>0</th>\n",
              "      <td>ICMR-Regional Medical Research Centre, Port Blair</td>\n",
              "      <td>ICMR-Regional Medical Research Centre, Post Ba...</td>\n",
              "      <td>744103</td>\n",
              "      <td>Port Blair</td>\n",
              "      <td>Andaman and Nicobar Islands</td>\n",
              "      <td>Government Laboratory Supported</td>\n",
              "    </tr>\n",
              "    <tr>\n",
              "      <th>1</th>\n",
              "      <td>Tomo Riba Institute of Health &amp; Medical Scienc...</td>\n",
              "      <td>National Highway 52A, Old Assembly Complex, Na...</td>\n",
              "      <td>791110</td>\n",
              "      <td>Naharlagun</td>\n",
              "      <td>Arunachal Pradesh</td>\n",
              "      <td>Collection Site</td>\n",
              "    </tr>\n",
              "    <tr>\n",
              "      <th>2</th>\n",
              "      <td>Sri Venkateswara Institute of Medical Sciences...</td>\n",
              "      <td>Sri Venkateswara Institute of Medical Sciences...</td>\n",
              "      <td>517507</td>\n",
              "      <td>Tirupati</td>\n",
              "      <td>Andhra Pradesh</td>\n",
              "      <td>Government Laboratory Supported</td>\n",
              "    </tr>\n",
              "    <tr>\n",
              "      <th>3</th>\n",
              "      <td>Rangaraya Medical College, Kakinada</td>\n",
              "      <td>Rangaraya Medical College, Kakinada Pithampura...</td>\n",
              "      <td>533001</td>\n",
              "      <td>Kakinada</td>\n",
              "      <td>Andhra Pradesh</td>\n",
              "      <td>Government Laboratory Supported</td>\n",
              "    </tr>\n",
              "    <tr>\n",
              "      <th>4</th>\n",
              "      <td>Sidhartha Medical College, Vijaywada</td>\n",
              "      <td>Siddhartha Medical College, Vijayawada NH 16 S...</td>\n",
              "      <td>520008</td>\n",
              "      <td>Vijayawada</td>\n",
              "      <td>Andhra Pradesh</td>\n",
              "      <td>Government Laboratory Supported</td>\n",
              "    </tr>\n",
              "  </tbody>\n",
              "</table>\n",
              "</div>"
            ],
            "text/plain": [
              "                                                 lab  ...                             type\n",
              "0  ICMR-Regional Medical Research Centre, Port Blair  ...  Government Laboratory Supported\n",
              "1  Tomo Riba Institute of Health & Medical Scienc...  ...                  Collection Site\n",
              "2  Sri Venkateswara Institute of Medical Sciences...  ...  Government Laboratory Supported\n",
              "3                Rangaraya Medical College, Kakinada  ...  Government Laboratory Supported\n",
              "4               Sidhartha Medical College, Vijaywada  ...  Government Laboratory Supported\n",
              "\n",
              "[5 rows x 6 columns]"
            ]
          },
          "metadata": {
            "tags": []
          },
          "execution_count": 159
        }
      ]
    },
    {
      "cell_type": "code",
      "metadata": {
        "colab": {
          "base_uri": "https://localhost:8080/"
        },
        "id": "GrrMJcnpk6kg",
        "outputId": "d94fa95d-aef5-42da-ffcf-493e89c1a3d0"
      },
      "source": [
        "ICMRTestingLabs.shape"
      ],
      "execution_count": 160,
      "outputs": [
        {
          "output_type": "execute_result",
          "data": {
            "text/plain": [
              "(213, 6)"
            ]
          },
          "metadata": {
            "tags": []
          },
          "execution_count": 160
        }
      ]
    },
    {
      "cell_type": "code",
      "metadata": {
        "colab": {
          "base_uri": "https://localhost:8080/"
        },
        "id": "sBYbvdvek_SB",
        "outputId": "a0977694-b25f-40e7-9a85-d62c79cc90d2"
      },
      "source": [
        "ICMRTestingLabs.info()"
      ],
      "execution_count": 161,
      "outputs": [
        {
          "output_type": "stream",
          "text": [
            "<class 'pandas.core.frame.DataFrame'>\n",
            "RangeIndex: 213 entries, 0 to 212\n",
            "Data columns (total 6 columns):\n",
            " #   Column   Non-Null Count  Dtype \n",
            "---  ------   --------------  ----- \n",
            " 0   lab      213 non-null    object\n",
            " 1   address  213 non-null    object\n",
            " 2   pincode  213 non-null    int64 \n",
            " 3   city     213 non-null    object\n",
            " 4   state    213 non-null    object\n",
            " 5   type     213 non-null    object\n",
            "dtypes: int64(1), object(5)\n",
            "memory usage: 10.1+ KB\n"
          ],
          "name": "stdout"
        }
      ]
    },
    {
      "cell_type": "markdown",
      "metadata": {
        "id": "T8i18gH9ljKV"
      },
      "source": [
        "We do not have any missing or junk values in ICMRTestingLabs dataset"
      ]
    },
    {
      "cell_type": "code",
      "metadata": {
        "colab": {
          "base_uri": "https://localhost:8080/",
          "height": 462
        },
        "id": "iV4vgW8BJQAp",
        "outputId": "4211de76-f121-40bc-8aec-dd98f3eb1dcb"
      },
      "source": [
        "IndividualDetails.head()"
      ],
      "execution_count": 162,
      "outputs": [
        {
          "output_type": "execute_result",
          "data": {
            "text/html": [
              "<div>\n",
              "<style scoped>\n",
              "    .dataframe tbody tr th:only-of-type {\n",
              "        vertical-align: middle;\n",
              "    }\n",
              "\n",
              "    .dataframe tbody tr th {\n",
              "        vertical-align: top;\n",
              "    }\n",
              "\n",
              "    .dataframe thead th {\n",
              "        text-align: right;\n",
              "    }\n",
              "</style>\n",
              "<table border=\"1\" class=\"dataframe\">\n",
              "  <thead>\n",
              "    <tr style=\"text-align: right;\">\n",
              "      <th></th>\n",
              "      <th>id</th>\n",
              "      <th>government_id</th>\n",
              "      <th>diagnosed_date</th>\n",
              "      <th>age</th>\n",
              "      <th>gender</th>\n",
              "      <th>detected_city</th>\n",
              "      <th>detected_district</th>\n",
              "      <th>detected_state</th>\n",
              "      <th>nationality</th>\n",
              "      <th>current_status</th>\n",
              "      <th>status_change_date</th>\n",
              "      <th>notes</th>\n",
              "    </tr>\n",
              "  </thead>\n",
              "  <tbody>\n",
              "    <tr>\n",
              "      <th>0</th>\n",
              "      <td>0</td>\n",
              "      <td>KL-TS-P1</td>\n",
              "      <td>30/01/2020</td>\n",
              "      <td>20</td>\n",
              "      <td>F</td>\n",
              "      <td>Thrissur</td>\n",
              "      <td>Thrissur</td>\n",
              "      <td>Kerala</td>\n",
              "      <td>India</td>\n",
              "      <td>Recovered</td>\n",
              "      <td>14/02/2020</td>\n",
              "      <td>Travelled from Wuhan</td>\n",
              "    </tr>\n",
              "    <tr>\n",
              "      <th>1</th>\n",
              "      <td>1</td>\n",
              "      <td>KL-AL-P1</td>\n",
              "      <td>02/02/2020</td>\n",
              "      <td>NaN</td>\n",
              "      <td>NaN</td>\n",
              "      <td>Alappuzha</td>\n",
              "      <td>Alappuzha</td>\n",
              "      <td>Kerala</td>\n",
              "      <td>India</td>\n",
              "      <td>Recovered</td>\n",
              "      <td>14/02/2020</td>\n",
              "      <td>Travelled from Wuhan</td>\n",
              "    </tr>\n",
              "    <tr>\n",
              "      <th>2</th>\n",
              "      <td>2</td>\n",
              "      <td>KL-KS-P1</td>\n",
              "      <td>03/02/2020</td>\n",
              "      <td>NaN</td>\n",
              "      <td>NaN</td>\n",
              "      <td>Kasaragod</td>\n",
              "      <td>Kasaragod</td>\n",
              "      <td>Kerala</td>\n",
              "      <td>India</td>\n",
              "      <td>Recovered</td>\n",
              "      <td>14/02/2020</td>\n",
              "      <td>Travelled from Wuhan</td>\n",
              "    </tr>\n",
              "    <tr>\n",
              "      <th>3</th>\n",
              "      <td>3</td>\n",
              "      <td>DL-P1</td>\n",
              "      <td>02/03/2020</td>\n",
              "      <td>45</td>\n",
              "      <td>M</td>\n",
              "      <td>East Delhi (Mayur Vihar)</td>\n",
              "      <td>East Delhi</td>\n",
              "      <td>Delhi</td>\n",
              "      <td>India</td>\n",
              "      <td>Recovered</td>\n",
              "      <td>15/03/2020</td>\n",
              "      <td>Travelled from Austria, Italy</td>\n",
              "    </tr>\n",
              "    <tr>\n",
              "      <th>4</th>\n",
              "      <td>4</td>\n",
              "      <td>TS-P1</td>\n",
              "      <td>02/03/2020</td>\n",
              "      <td>24</td>\n",
              "      <td>M</td>\n",
              "      <td>Hyderabad</td>\n",
              "      <td>Hyderabad</td>\n",
              "      <td>Telangana</td>\n",
              "      <td>India</td>\n",
              "      <td>Recovered</td>\n",
              "      <td>02/03/2020</td>\n",
              "      <td>Travelled from Dubai to Bangalore on 20th Feb,...</td>\n",
              "    </tr>\n",
              "  </tbody>\n",
              "</table>\n",
              "</div>"
            ],
            "text/plain": [
              "   id  ...                                              notes\n",
              "0   0  ...                               Travelled from Wuhan\n",
              "1   1  ...                               Travelled from Wuhan\n",
              "2   2  ...                               Travelled from Wuhan\n",
              "3   3  ...                      Travelled from Austria, Italy\n",
              "4   4  ...  Travelled from Dubai to Bangalore on 20th Feb,...\n",
              "\n",
              "[5 rows x 12 columns]"
            ]
          },
          "metadata": {
            "tags": []
          },
          "execution_count": 162
        }
      ]
    },
    {
      "cell_type": "code",
      "metadata": {
        "colab": {
          "base_uri": "https://localhost:8080/"
        },
        "id": "-Hz9Ldh6l2qJ",
        "outputId": "6d4f9ad5-d213-4372-d808-10e132710478"
      },
      "source": [
        "IndividualDetails.shape"
      ],
      "execution_count": 163,
      "outputs": [
        {
          "output_type": "execute_result",
          "data": {
            "text/plain": [
              "(6821, 12)"
            ]
          },
          "metadata": {
            "tags": []
          },
          "execution_count": 163
        }
      ]
    },
    {
      "cell_type": "code",
      "metadata": {
        "colab": {
          "base_uri": "https://localhost:8080/"
        },
        "id": "4uPKq4DNl5dN",
        "outputId": "ff365aec-34f3-4c44-e716-71a4bb77aef5"
      },
      "source": [
        "IndividualDetails.info()"
      ],
      "execution_count": 164,
      "outputs": [
        {
          "output_type": "stream",
          "text": [
            "<class 'pandas.core.frame.DataFrame'>\n",
            "RangeIndex: 6821 entries, 0 to 6820\n",
            "Data columns (total 12 columns):\n",
            " #   Column              Non-Null Count  Dtype \n",
            "---  ------              --------------  ----- \n",
            " 0   id                  6821 non-null   int64 \n",
            " 1   government_id       1308 non-null   object\n",
            " 2   diagnosed_date      6821 non-null   object\n",
            " 3   age                 1074 non-null   object\n",
            " 4   gender              1672 non-null   object\n",
            " 5   detected_city       922 non-null    object\n",
            " 6   detected_district   5472 non-null   object\n",
            " 7   detected_state      6821 non-null   object\n",
            " 8   nationality         1174 non-null   object\n",
            " 9   current_status      6820 non-null   object\n",
            " 10  status_change_date  6711 non-null   object\n",
            " 11  notes               5631 non-null   object\n",
            "dtypes: int64(1), object(11)\n",
            "memory usage: 639.6+ KB\n"
          ],
          "name": "stdout"
        }
      ]
    },
    {
      "cell_type": "code",
      "metadata": {
        "colab": {
          "base_uri": "https://localhost:8080/",
          "height": 735
        },
        "id": "eHL8zsiznfpe",
        "outputId": "e14c2324-b2c1-4dba-e957-21ca401c611b"
      },
      "source": [
        "import missingno as msno\r\n",
        "msno.matrix(IndividualDetails,figsize=(10, 10))"
      ],
      "execution_count": 165,
      "outputs": [
        {
          "output_type": "execute_result",
          "data": {
            "text/plain": [
              "<matplotlib.axes._subplots.AxesSubplot at 0x7f26153eb160>"
            ]
          },
          "metadata": {
            "tags": []
          },
          "execution_count": 165
        },
        {
          "output_type": "display_data",
          "data": {
            "image/png": "[encoded data removed]",
            "text/plain": [
              "<Figure size 720x720 with 2 Axes>"
            ]
          },
          "metadata": {
            "tags": [],
            "needs_background": "light"
          }
        }
      ]
    },
    {
      "cell_type": "code",
      "metadata": {
        "colab": {
          "base_uri": "https://localhost:8080/",
          "height": 289
        },
        "id": "uSG7nOWdJviq",
        "outputId": "f30b403e-69c8-4475-f2b3-a4b12e29e027"
      },
      "source": [
        "covid_19_india.head()"
      ],
      "execution_count": 166,
      "outputs": [
        {
          "output_type": "execute_result",
          "data": {
            "text/html": [
              "<div>\n",
              "<style scoped>\n",
              "    .dataframe tbody tr th:only-of-type {\n",
              "        vertical-align: middle;\n",
              "    }\n",
              "\n",
              "    .dataframe tbody tr th {\n",
              "        vertical-align: top;\n",
              "    }\n",
              "\n",
              "    .dataframe thead th {\n",
              "        text-align: right;\n",
              "    }\n",
              "</style>\n",
              "<table border=\"1\" class=\"dataframe\">\n",
              "  <thead>\n",
              "    <tr style=\"text-align: right;\">\n",
              "      <th></th>\n",
              "      <th>Sno</th>\n",
              "      <th>Date</th>\n",
              "      <th>Time</th>\n",
              "      <th>State/UnionTerritory</th>\n",
              "      <th>ConfirmedIndianNational</th>\n",
              "      <th>ConfirmedForeignNational</th>\n",
              "      <th>Cured</th>\n",
              "      <th>Deaths</th>\n",
              "      <th>Confirmed</th>\n",
              "    </tr>\n",
              "  </thead>\n",
              "  <tbody>\n",
              "    <tr>\n",
              "      <th>0</th>\n",
              "      <td>1.0</td>\n",
              "      <td>30/01/20</td>\n",
              "      <td>6:00 PM</td>\n",
              "      <td>Kerala</td>\n",
              "      <td>1</td>\n",
              "      <td>0</td>\n",
              "      <td>0.0</td>\n",
              "      <td>0.0</td>\n",
              "      <td>1.0</td>\n",
              "    </tr>\n",
              "    <tr>\n",
              "      <th>1</th>\n",
              "      <td>2.0</td>\n",
              "      <td>31/01/20</td>\n",
              "      <td>6:00 PM</td>\n",
              "      <td>Kerala</td>\n",
              "      <td>1</td>\n",
              "      <td>0</td>\n",
              "      <td>0.0</td>\n",
              "      <td>0.0</td>\n",
              "      <td>1.0</td>\n",
              "    </tr>\n",
              "    <tr>\n",
              "      <th>2</th>\n",
              "      <td>3.0</td>\n",
              "      <td>01/02/20</td>\n",
              "      <td>6:00 PM</td>\n",
              "      <td>Kerala</td>\n",
              "      <td>2</td>\n",
              "      <td>0</td>\n",
              "      <td>0.0</td>\n",
              "      <td>0.0</td>\n",
              "      <td>2.0</td>\n",
              "    </tr>\n",
              "    <tr>\n",
              "      <th>3</th>\n",
              "      <td>4.0</td>\n",
              "      <td>02/02/20</td>\n",
              "      <td>6:00 PM</td>\n",
              "      <td>Kerala</td>\n",
              "      <td>3</td>\n",
              "      <td>0</td>\n",
              "      <td>0.0</td>\n",
              "      <td>0.0</td>\n",
              "      <td>3.0</td>\n",
              "    </tr>\n",
              "    <tr>\n",
              "      <th>4</th>\n",
              "      <td>5.0</td>\n",
              "      <td>03/02/20</td>\n",
              "      <td>6:00 PM</td>\n",
              "      <td>Kerala</td>\n",
              "      <td>3</td>\n",
              "      <td>0</td>\n",
              "      <td>0.0</td>\n",
              "      <td>0.0</td>\n",
              "      <td>3.0</td>\n",
              "    </tr>\n",
              "  </tbody>\n",
              "</table>\n",
              "</div>"
            ],
            "text/plain": [
              "   Sno      Date     Time  ... Cured Deaths Confirmed\n",
              "0  1.0  30/01/20  6:00 PM  ...   0.0    0.0       1.0\n",
              "1  2.0  31/01/20  6:00 PM  ...   0.0    0.0       1.0\n",
              "2  3.0  01/02/20  6:00 PM  ...   0.0    0.0       2.0\n",
              "3  4.0  02/02/20  6:00 PM  ...   0.0    0.0       3.0\n",
              "4  5.0  03/02/20  6:00 PM  ...   0.0    0.0       3.0\n",
              "\n",
              "[5 rows x 9 columns]"
            ]
          },
          "metadata": {
            "tags": []
          },
          "execution_count": 166
        }
      ]
    },
    {
      "cell_type": "code",
      "metadata": {
        "colab": {
          "base_uri": "https://localhost:8080/"
        },
        "id": "4TsLPb2nmEEk",
        "outputId": "0e9cd03f-e1b8-4f32-ad46-7221a8fc6197"
      },
      "source": [
        "covid_19_india.shape"
      ],
      "execution_count": 167,
      "outputs": [
        {
          "output_type": "execute_result",
          "data": {
            "text/plain": [
              "(806, 9)"
            ]
          },
          "metadata": {
            "tags": []
          },
          "execution_count": 167
        }
      ]
    },
    {
      "cell_type": "code",
      "metadata": {
        "colab": {
          "base_uri": "https://localhost:8080/"
        },
        "id": "muZY-7Den4SZ",
        "outputId": "f939cc51-0c23-4c13-c636-f82416756d84"
      },
      "source": [
        "covid_19_india.info()"
      ],
      "execution_count": 168,
      "outputs": [
        {
          "output_type": "stream",
          "text": [
            "<class 'pandas.core.frame.DataFrame'>\n",
            "RangeIndex: 806 entries, 0 to 805\n",
            "Data columns (total 9 columns):\n",
            " #   Column                    Non-Null Count  Dtype  \n",
            "---  ------                    --------------  -----  \n",
            " 0   Sno                       801 non-null    float64\n",
            " 1   Date                      801 non-null    object \n",
            " 2   Time                      801 non-null    object \n",
            " 3   State/UnionTerritory      801 non-null    object \n",
            " 4   ConfirmedIndianNational   801 non-null    object \n",
            " 5   ConfirmedForeignNational  801 non-null    object \n",
            " 6   Cured                     801 non-null    float64\n",
            " 7   Deaths                    801 non-null    float64\n",
            " 8   Confirmed                 801 non-null    float64\n",
            "dtypes: float64(4), object(5)\n",
            "memory usage: 56.8+ KB\n"
          ],
          "name": "stdout"
        }
      ]
    },
    {
      "cell_type": "markdown",
      "metadata": {
        "id": "cd5GVYa1ohp0"
      },
      "source": [
        "We do not have any missing values in covid_19_info dataset"
      ]
    },
    {
      "cell_type": "code",
      "metadata": {
        "id": "hmyLut5Bov6p"
      },
      "source": [
        "covid_19_india.drop('Sno',axis=1,inplace=True)"
      ],
      "execution_count": 169,
      "outputs": []
    },
    {
      "cell_type": "code",
      "metadata": {
        "id": "S65sb2E98CAz"
      },
      "source": [
        "covid_19_india['State/UnionTerritory'].fillna('Kerala',inplace=True)"
      ],
      "execution_count": 170,
      "outputs": []
    },
    {
      "cell_type": "code",
      "metadata": {
        "colab": {
          "base_uri": "https://localhost:8080/",
          "height": 221
        },
        "id": "gDAXo8CHJ_no",
        "outputId": "7ba84a7c-a8a7-492e-e55c-8f1053649399"
      },
      "source": [
        "population_india_census2011.head()"
      ],
      "execution_count": 171,
      "outputs": [
        {
          "output_type": "execute_result",
          "data": {
            "text/html": [
              "<div>\n",
              "<style scoped>\n",
              "    .dataframe tbody tr th:only-of-type {\n",
              "        vertical-align: middle;\n",
              "    }\n",
              "\n",
              "    .dataframe tbody tr th {\n",
              "        vertical-align: top;\n",
              "    }\n",
              "\n",
              "    .dataframe thead th {\n",
              "        text-align: right;\n",
              "    }\n",
              "</style>\n",
              "<table border=\"1\" class=\"dataframe\">\n",
              "  <thead>\n",
              "    <tr style=\"text-align: right;\">\n",
              "      <th></th>\n",
              "      <th>Sno</th>\n",
              "      <th>State / Union Territory</th>\n",
              "      <th>Population</th>\n",
              "      <th>Rural population</th>\n",
              "      <th>Urban population</th>\n",
              "      <th>Area</th>\n",
              "      <th>Density</th>\n",
              "      <th>Gender Ratio</th>\n",
              "    </tr>\n",
              "  </thead>\n",
              "  <tbody>\n",
              "    <tr>\n",
              "      <th>0</th>\n",
              "      <td>1</td>\n",
              "      <td>Uttar Pradesh</td>\n",
              "      <td>199812341</td>\n",
              "      <td>155317278</td>\n",
              "      <td>44495063</td>\n",
              "      <td>240,928 km2 (93,023 sq mi)</td>\n",
              "      <td>828/km2 (2,140/sq mi)</td>\n",
              "      <td>912</td>\n",
              "    </tr>\n",
              "    <tr>\n",
              "      <th>1</th>\n",
              "      <td>2</td>\n",
              "      <td>Maharashtra</td>\n",
              "      <td>112374333</td>\n",
              "      <td>61556074</td>\n",
              "      <td>50818259</td>\n",
              "      <td>307,713 km2 (118,809 sq mi)</td>\n",
              "      <td>365/km2 (950/sq mi)</td>\n",
              "      <td>929</td>\n",
              "    </tr>\n",
              "    <tr>\n",
              "      <th>2</th>\n",
              "      <td>3</td>\n",
              "      <td>Bihar</td>\n",
              "      <td>104099452</td>\n",
              "      <td>92341436</td>\n",
              "      <td>11758016</td>\n",
              "      <td>94,163 km2 (36,357 sq mi)</td>\n",
              "      <td>1,102/km2 (2,850/sq mi)</td>\n",
              "      <td>918</td>\n",
              "    </tr>\n",
              "    <tr>\n",
              "      <th>3</th>\n",
              "      <td>4</td>\n",
              "      <td>West Bengal</td>\n",
              "      <td>91276115</td>\n",
              "      <td>62183113</td>\n",
              "      <td>29093002</td>\n",
              "      <td>88,752 km2 (34,267 sq mi)</td>\n",
              "      <td>1,029/km2 (2,670/sq mi)</td>\n",
              "      <td>953</td>\n",
              "    </tr>\n",
              "    <tr>\n",
              "      <th>4</th>\n",
              "      <td>5</td>\n",
              "      <td>Madhya Pradesh</td>\n",
              "      <td>72626809</td>\n",
              "      <td>52557404</td>\n",
              "      <td>20069405</td>\n",
              "      <td>308,245 km2 (119,014 sq mi)</td>\n",
              "      <td>236/km2 (610/sq mi)</td>\n",
              "      <td>931</td>\n",
              "    </tr>\n",
              "  </tbody>\n",
              "</table>\n",
              "</div>"
            ],
            "text/plain": [
              "   Sno State / Union Territory  ...                  Density  Gender Ratio\n",
              "0    1           Uttar Pradesh  ...    828/km2 (2,140/sq mi)           912\n",
              "1    2             Maharashtra  ...      365/km2 (950/sq mi)           929\n",
              "2    3                   Bihar  ...  1,102/km2 (2,850/sq mi)           918\n",
              "3    4             West Bengal  ...  1,029/km2 (2,670/sq mi)           953\n",
              "4    5          Madhya Pradesh  ...      236/km2 (610/sq mi)           931\n",
              "\n",
              "[5 rows x 8 columns]"
            ]
          },
          "metadata": {
            "tags": []
          },
          "execution_count": 171
        }
      ]
    },
    {
      "cell_type": "code",
      "metadata": {
        "colab": {
          "base_uri": "https://localhost:8080/"
        },
        "id": "rpbitktYKQFg",
        "outputId": "10598eec-674a-4665-8332-bb710c7968fe"
      },
      "source": [
        "population_india_census2011.shape"
      ],
      "execution_count": 172,
      "outputs": [
        {
          "output_type": "execute_result",
          "data": {
            "text/plain": [
              "(36, 8)"
            ]
          },
          "metadata": {
            "tags": []
          },
          "execution_count": 172
        }
      ]
    },
    {
      "cell_type": "code",
      "metadata": {
        "colab": {
          "base_uri": "https://localhost:8080/"
        },
        "id": "e3QkFfCzpLJm",
        "outputId": "bea1e921-a9a0-42b9-e7ad-e1ba50734cfc"
      },
      "source": [
        "population_india_census2011.info()"
      ],
      "execution_count": 173,
      "outputs": [
        {
          "output_type": "stream",
          "text": [
            "<class 'pandas.core.frame.DataFrame'>\n",
            "RangeIndex: 36 entries, 0 to 35\n",
            "Data columns (total 8 columns):\n",
            " #   Column                   Non-Null Count  Dtype \n",
            "---  ------                   --------------  ----- \n",
            " 0   Sno                      36 non-null     int64 \n",
            " 1   State / Union Territory  36 non-null     object\n",
            " 2   Population               36 non-null     int64 \n",
            " 3   Rural population         36 non-null     int64 \n",
            " 4   Urban population         36 non-null     int64 \n",
            " 5   Area                     36 non-null     object\n",
            " 6   Density                  36 non-null     object\n",
            " 7   Gender Ratio             36 non-null     int64 \n",
            "dtypes: int64(5), object(3)\n",
            "memory usage: 2.4+ KB\n"
          ],
          "name": "stdout"
        }
      ]
    },
    {
      "cell_type": "markdown",
      "metadata": {
        "id": "XBBQLcmHpTII"
      },
      "source": [
        "We do not have any missing values"
      ]
    },
    {
      "cell_type": "code",
      "metadata": {
        "id": "xvINdRYcpN_O"
      },
      "source": [
        "population_india_census2011.drop('Sno',axis=1,inplace=True)"
      ],
      "execution_count": 174,
      "outputs": []
    },
    {
      "cell_type": "markdown",
      "metadata": {
        "id": "eR8z4lpJtXR7"
      },
      "source": [
        "Crosschecking dataset"
      ]
    },
    {
      "cell_type": "code",
      "metadata": {
        "colab": {
          "base_uri": "https://localhost:8080/",
          "height": 204
        },
        "id": "87_0C6iFpabJ",
        "outputId": "27b00a84-9a24-4e53-ab16-ed6aaa0a29f5"
      },
      "source": [
        "AgeGroupDetails.head()"
      ],
      "execution_count": 175,
      "outputs": [
        {
          "output_type": "execute_result",
          "data": {
            "text/html": [
              "<div>\n",
              "<style scoped>\n",
              "    .dataframe tbody tr th:only-of-type {\n",
              "        vertical-align: middle;\n",
              "    }\n",
              "\n",
              "    .dataframe tbody tr th {\n",
              "        vertical-align: top;\n",
              "    }\n",
              "\n",
              "    .dataframe thead th {\n",
              "        text-align: right;\n",
              "    }\n",
              "</style>\n",
              "<table border=\"1\" class=\"dataframe\">\n",
              "  <thead>\n",
              "    <tr style=\"text-align: right;\">\n",
              "      <th></th>\n",
              "      <th>AgeGroup</th>\n",
              "      <th>TotalCases</th>\n",
              "      <th>Percentage</th>\n",
              "    </tr>\n",
              "  </thead>\n",
              "  <tbody>\n",
              "    <tr>\n",
              "      <th>0</th>\n",
              "      <td>0-9</td>\n",
              "      <td>22</td>\n",
              "      <td>3.18</td>\n",
              "    </tr>\n",
              "    <tr>\n",
              "      <th>1</th>\n",
              "      <td>10-19</td>\n",
              "      <td>27</td>\n",
              "      <td>3.90</td>\n",
              "    </tr>\n",
              "    <tr>\n",
              "      <th>2</th>\n",
              "      <td>20-29</td>\n",
              "      <td>181</td>\n",
              "      <td>26.16</td>\n",
              "    </tr>\n",
              "    <tr>\n",
              "      <th>3</th>\n",
              "      <td>30-39</td>\n",
              "      <td>146</td>\n",
              "      <td>21.10</td>\n",
              "    </tr>\n",
              "    <tr>\n",
              "      <th>4</th>\n",
              "      <td>40-49</td>\n",
              "      <td>112</td>\n",
              "      <td>16.18</td>\n",
              "    </tr>\n",
              "  </tbody>\n",
              "</table>\n",
              "</div>"
            ],
            "text/plain": [
              "  AgeGroup  TotalCases  Percentage\n",
              "0      0-9          22        3.18\n",
              "1    10-19          27        3.90\n",
              "2    20-29         181       26.16\n",
              "3    30-39         146       21.10\n",
              "4    40-49         112       16.18"
            ]
          },
          "metadata": {
            "tags": []
          },
          "execution_count": 175
        }
      ]
    },
    {
      "cell_type": "code",
      "metadata": {
        "colab": {
          "base_uri": "https://localhost:8080/",
          "height": 292
        },
        "id": "wufnh86ftU_k",
        "outputId": "f784ac9d-44db-4c23-fd99-874855bca544"
      },
      "source": [
        "HospitalBedsIndia.head()"
      ],
      "execution_count": 176,
      "outputs": [
        {
          "output_type": "execute_result",
          "data": {
            "text/html": [
              "<div>\n",
              "<style scoped>\n",
              "    .dataframe tbody tr th:only-of-type {\n",
              "        vertical-align: middle;\n",
              "    }\n",
              "\n",
              "    .dataframe tbody tr th {\n",
              "        vertical-align: top;\n",
              "    }\n",
              "\n",
              "    .dataframe thead th {\n",
              "        text-align: right;\n",
              "    }\n",
              "</style>\n",
              "<table border=\"1\" class=\"dataframe\">\n",
              "  <thead>\n",
              "    <tr style=\"text-align: right;\">\n",
              "      <th></th>\n",
              "      <th>State/UT</th>\n",
              "      <th>NumPrimaryHealthCenters_HMIS</th>\n",
              "      <th>NumCommunityHealthCenters_HMIS</th>\n",
              "      <th>NumSubDistrictHospitals_HMIS</th>\n",
              "      <th>NumDistrictHospitals_HMIS</th>\n",
              "      <th>TotalPublicHealthFacilities_HMIS</th>\n",
              "      <th>NumPublicBeds_HMIS</th>\n",
              "      <th>NumRuralHospitals_NHP18</th>\n",
              "      <th>NumRuralBeds_NHP18</th>\n",
              "      <th>NumUrbanHospitals_NHP18</th>\n",
              "      <th>NumUrbanBeds_NHP18</th>\n",
              "    </tr>\n",
              "  </thead>\n",
              "  <tbody>\n",
              "    <tr>\n",
              "      <th>0</th>\n",
              "      <td>Andaman &amp; Nicobar Islands</td>\n",
              "      <td>27.0</td>\n",
              "      <td>4.0</td>\n",
              "      <td>25.5</td>\n",
              "      <td>3.0</td>\n",
              "      <td>34.0</td>\n",
              "      <td>1246.0</td>\n",
              "      <td>27.0</td>\n",
              "      <td>575.0</td>\n",
              "      <td>3.0</td>\n",
              "      <td>500.0</td>\n",
              "    </tr>\n",
              "    <tr>\n",
              "      <th>1</th>\n",
              "      <td>Andhra Pradesh</td>\n",
              "      <td>1417.0</td>\n",
              "      <td>198.0</td>\n",
              "      <td>31.0</td>\n",
              "      <td>20.0</td>\n",
              "      <td>1666.0</td>\n",
              "      <td>60799.0</td>\n",
              "      <td>193.0</td>\n",
              "      <td>6480.0</td>\n",
              "      <td>65.0</td>\n",
              "      <td>16658.0</td>\n",
              "    </tr>\n",
              "    <tr>\n",
              "      <th>2</th>\n",
              "      <td>Arunachal Pradesh</td>\n",
              "      <td>122.0</td>\n",
              "      <td>62.0</td>\n",
              "      <td>25.5</td>\n",
              "      <td>15.0</td>\n",
              "      <td>199.0</td>\n",
              "      <td>2320.0</td>\n",
              "      <td>208.0</td>\n",
              "      <td>2136.0</td>\n",
              "      <td>10.0</td>\n",
              "      <td>268.0</td>\n",
              "    </tr>\n",
              "    <tr>\n",
              "      <th>3</th>\n",
              "      <td>Assam</td>\n",
              "      <td>1007.0</td>\n",
              "      <td>166.0</td>\n",
              "      <td>14.0</td>\n",
              "      <td>33.0</td>\n",
              "      <td>1220.0</td>\n",
              "      <td>19115.0</td>\n",
              "      <td>1176.0</td>\n",
              "      <td>10944.0</td>\n",
              "      <td>50.0</td>\n",
              "      <td>6198.0</td>\n",
              "    </tr>\n",
              "    <tr>\n",
              "      <th>4</th>\n",
              "      <td>Bihar</td>\n",
              "      <td>2007.0</td>\n",
              "      <td>63.0</td>\n",
              "      <td>33.0</td>\n",
              "      <td>43.0</td>\n",
              "      <td>2146.0</td>\n",
              "      <td>17796.0</td>\n",
              "      <td>930.0</td>\n",
              "      <td>6083.0</td>\n",
              "      <td>103.0</td>\n",
              "      <td>5936.0</td>\n",
              "    </tr>\n",
              "  </tbody>\n",
              "</table>\n",
              "</div>"
            ],
            "text/plain": [
              "                    State/UT  ...  NumUrbanBeds_NHP18\n",
              "0  Andaman & Nicobar Islands  ...               500.0\n",
              "1             Andhra Pradesh  ...             16658.0\n",
              "2          Arunachal Pradesh  ...               268.0\n",
              "3                      Assam  ...              6198.0\n",
              "4                      Bihar  ...              5936.0\n",
              "\n",
              "[5 rows x 11 columns]"
            ]
          },
          "metadata": {
            "tags": []
          },
          "execution_count": 176
        }
      ]
    },
    {
      "cell_type": "code",
      "metadata": {
        "colab": {
          "base_uri": "https://localhost:8080/",
          "height": 204
        },
        "id": "7OwM8suItbQY",
        "outputId": "c7d30475-d3f8-4054-e01a-ff2e4fbfb076"
      },
      "source": [
        "ICMRTestingDetails.head()"
      ],
      "execution_count": 177,
      "outputs": [
        {
          "output_type": "execute_result",
          "data": {
            "text/html": [
              "<div>\n",
              "<style scoped>\n",
              "    .dataframe tbody tr th:only-of-type {\n",
              "        vertical-align: middle;\n",
              "    }\n",
              "\n",
              "    .dataframe tbody tr th {\n",
              "        vertical-align: top;\n",
              "    }\n",
              "\n",
              "    .dataframe thead th {\n",
              "        text-align: right;\n",
              "    }\n",
              "</style>\n",
              "<table border=\"1\" class=\"dataframe\">\n",
              "  <thead>\n",
              "    <tr style=\"text-align: right;\">\n",
              "      <th></th>\n",
              "      <th>TotalSamplesTested</th>\n",
              "      <th>TotalIndividualsTested</th>\n",
              "      <th>TotalPositiveCases</th>\n",
              "      <th>Dates</th>\n",
              "      <th>Time</th>\n",
              "    </tr>\n",
              "  </thead>\n",
              "  <tbody>\n",
              "    <tr>\n",
              "      <th>0</th>\n",
              "      <td>6500.0</td>\n",
              "      <td>5900.0</td>\n",
              "      <td>78.0</td>\n",
              "      <td>2020-03-13</td>\n",
              "      <td>18:00:00</td>\n",
              "    </tr>\n",
              "    <tr>\n",
              "      <th>1</th>\n",
              "      <td>13125.0</td>\n",
              "      <td>12235.0</td>\n",
              "      <td>150.0</td>\n",
              "      <td>2020-03-18</td>\n",
              "      <td>18:00:00</td>\n",
              "    </tr>\n",
              "    <tr>\n",
              "      <th>2</th>\n",
              "      <td>14175.0</td>\n",
              "      <td>13285.0</td>\n",
              "      <td>182.0</td>\n",
              "      <td>2020-03-19</td>\n",
              "      <td>18:00:00</td>\n",
              "    </tr>\n",
              "    <tr>\n",
              "      <th>3</th>\n",
              "      <td>15404.0</td>\n",
              "      <td>14514.0</td>\n",
              "      <td>236.0</td>\n",
              "      <td>2020-03-20</td>\n",
              "      <td>18:00:00</td>\n",
              "    </tr>\n",
              "    <tr>\n",
              "      <th>4</th>\n",
              "      <td>16911.0</td>\n",
              "      <td>16021.0</td>\n",
              "      <td>315.0</td>\n",
              "      <td>2020-03-21</td>\n",
              "      <td>18:00:00</td>\n",
              "    </tr>\n",
              "  </tbody>\n",
              "</table>\n",
              "</div>"
            ],
            "text/plain": [
              "   TotalSamplesTested  TotalIndividualsTested  ...       Dates      Time\n",
              "0              6500.0                  5900.0  ...  2020-03-13  18:00:00\n",
              "1             13125.0                 12235.0  ...  2020-03-18  18:00:00\n",
              "2             14175.0                 13285.0  ...  2020-03-19  18:00:00\n",
              "3             15404.0                 14514.0  ...  2020-03-20  18:00:00\n",
              "4             16911.0                 16021.0  ...  2020-03-21  18:00:00\n",
              "\n",
              "[5 rows x 5 columns]"
            ]
          },
          "metadata": {
            "tags": []
          },
          "execution_count": 177
        }
      ]
    },
    {
      "cell_type": "code",
      "metadata": {
        "colab": {
          "base_uri": "https://localhost:8080/",
          "height": 357
        },
        "id": "gJ6BWd_ztluV",
        "outputId": "1d416652-774d-4788-dac6-a96ac823199f"
      },
      "source": [
        "ICMRTestingLabs.head()"
      ],
      "execution_count": 178,
      "outputs": [
        {
          "output_type": "execute_result",
          "data": {
            "text/html": [
              "<div>\n",
              "<style scoped>\n",
              "    .dataframe tbody tr th:only-of-type {\n",
              "        vertical-align: middle;\n",
              "    }\n",
              "\n",
              "    .dataframe tbody tr th {\n",
              "        vertical-align: top;\n",
              "    }\n",
              "\n",
              "    .dataframe thead th {\n",
              "        text-align: right;\n",
              "    }\n",
              "</style>\n",
              "<table border=\"1\" class=\"dataframe\">\n",
              "  <thead>\n",
              "    <tr style=\"text-align: right;\">\n",
              "      <th></th>\n",
              "      <th>lab</th>\n",
              "      <th>address</th>\n",
              "      <th>pincode</th>\n",
              "      <th>city</th>\n",
              "      <th>state</th>\n",
              "      <th>type</th>\n",
              "    </tr>\n",
              "  </thead>\n",
              "  <tbody>\n",
              "    <tr>\n",
              "      <th>0</th>\n",
              "      <td>ICMR-Regional Medical Research Centre, Port Blair</td>\n",
              "      <td>ICMR-Regional Medical Research Centre, Post Ba...</td>\n",
              "      <td>744103</td>\n",
              "      <td>Port Blair</td>\n",
              "      <td>Andaman and Nicobar Islands</td>\n",
              "      <td>Government Laboratory Supported</td>\n",
              "    </tr>\n",
              "    <tr>\n",
              "      <th>1</th>\n",
              "      <td>Tomo Riba Institute of Health &amp; Medical Scienc...</td>\n",
              "      <td>National Highway 52A, Old Assembly Complex, Na...</td>\n",
              "      <td>791110</td>\n",
              "      <td>Naharlagun</td>\n",
              "      <td>Arunachal Pradesh</td>\n",
              "      <td>Collection Site</td>\n",
              "    </tr>\n",
              "    <tr>\n",
              "      <th>2</th>\n",
              "      <td>Sri Venkateswara Institute of Medical Sciences...</td>\n",
              "      <td>Sri Venkateswara Institute of Medical Sciences...</td>\n",
              "      <td>517507</td>\n",
              "      <td>Tirupati</td>\n",
              "      <td>Andhra Pradesh</td>\n",
              "      <td>Government Laboratory Supported</td>\n",
              "    </tr>\n",
              "    <tr>\n",
              "      <th>3</th>\n",
              "      <td>Rangaraya Medical College, Kakinada</td>\n",
              "      <td>Rangaraya Medical College, Kakinada Pithampura...</td>\n",
              "      <td>533001</td>\n",
              "      <td>Kakinada</td>\n",
              "      <td>Andhra Pradesh</td>\n",
              "      <td>Government Laboratory Supported</td>\n",
              "    </tr>\n",
              "    <tr>\n",
              "      <th>4</th>\n",
              "      <td>Sidhartha Medical College, Vijaywada</td>\n",
              "      <td>Siddhartha Medical College, Vijayawada NH 16 S...</td>\n",
              "      <td>520008</td>\n",
              "      <td>Vijayawada</td>\n",
              "      <td>Andhra Pradesh</td>\n",
              "      <td>Government Laboratory Supported</td>\n",
              "    </tr>\n",
              "  </tbody>\n",
              "</table>\n",
              "</div>"
            ],
            "text/plain": [
              "                                                 lab  ...                             type\n",
              "0  ICMR-Regional Medical Research Centre, Port Blair  ...  Government Laboratory Supported\n",
              "1  Tomo Riba Institute of Health & Medical Scienc...  ...                  Collection Site\n",
              "2  Sri Venkateswara Institute of Medical Sciences...  ...  Government Laboratory Supported\n",
              "3                Rangaraya Medical College, Kakinada  ...  Government Laboratory Supported\n",
              "4               Sidhartha Medical College, Vijaywada  ...  Government Laboratory Supported\n",
              "\n",
              "[5 rows x 6 columns]"
            ]
          },
          "metadata": {
            "tags": []
          },
          "execution_count": 178
        }
      ]
    },
    {
      "cell_type": "code",
      "metadata": {
        "colab": {
          "base_uri": "https://localhost:8080/",
          "height": 204
        },
        "id": "bZcK9OQpttIN",
        "outputId": "5670cba6-e65c-41d7-96f7-d0328793c019"
      },
      "source": [
        "covid_19_india.head()"
      ],
      "execution_count": 179,
      "outputs": [
        {
          "output_type": "execute_result",
          "data": {
            "text/html": [
              "<div>\n",
              "<style scoped>\n",
              "    .dataframe tbody tr th:only-of-type {\n",
              "        vertical-align: middle;\n",
              "    }\n",
              "\n",
              "    .dataframe tbody tr th {\n",
              "        vertical-align: top;\n",
              "    }\n",
              "\n",
              "    .dataframe thead th {\n",
              "        text-align: right;\n",
              "    }\n",
              "</style>\n",
              "<table border=\"1\" class=\"dataframe\">\n",
              "  <thead>\n",
              "    <tr style=\"text-align: right;\">\n",
              "      <th></th>\n",
              "      <th>Date</th>\n",
              "      <th>Time</th>\n",
              "      <th>State/UnionTerritory</th>\n",
              "      <th>ConfirmedIndianNational</th>\n",
              "      <th>ConfirmedForeignNational</th>\n",
              "      <th>Cured</th>\n",
              "      <th>Deaths</th>\n",
              "      <th>Confirmed</th>\n",
              "    </tr>\n",
              "  </thead>\n",
              "  <tbody>\n",
              "    <tr>\n",
              "      <th>0</th>\n",
              "      <td>30/01/20</td>\n",
              "      <td>6:00 PM</td>\n",
              "      <td>Kerala</td>\n",
              "      <td>1</td>\n",
              "      <td>0</td>\n",
              "      <td>0.0</td>\n",
              "      <td>0.0</td>\n",
              "      <td>1.0</td>\n",
              "    </tr>\n",
              "    <tr>\n",
              "      <th>1</th>\n",
              "      <td>31/01/20</td>\n",
              "      <td>6:00 PM</td>\n",
              "      <td>Kerala</td>\n",
              "      <td>1</td>\n",
              "      <td>0</td>\n",
              "      <td>0.0</td>\n",
              "      <td>0.0</td>\n",
              "      <td>1.0</td>\n",
              "    </tr>\n",
              "    <tr>\n",
              "      <th>2</th>\n",
              "      <td>01/02/20</td>\n",
              "      <td>6:00 PM</td>\n",
              "      <td>Kerala</td>\n",
              "      <td>2</td>\n",
              "      <td>0</td>\n",
              "      <td>0.0</td>\n",
              "      <td>0.0</td>\n",
              "      <td>2.0</td>\n",
              "    </tr>\n",
              "    <tr>\n",
              "      <th>3</th>\n",
              "      <td>02/02/20</td>\n",
              "      <td>6:00 PM</td>\n",
              "      <td>Kerala</td>\n",
              "      <td>3</td>\n",
              "      <td>0</td>\n",
              "      <td>0.0</td>\n",
              "      <td>0.0</td>\n",
              "      <td>3.0</td>\n",
              "    </tr>\n",
              "    <tr>\n",
              "      <th>4</th>\n",
              "      <td>03/02/20</td>\n",
              "      <td>6:00 PM</td>\n",
              "      <td>Kerala</td>\n",
              "      <td>3</td>\n",
              "      <td>0</td>\n",
              "      <td>0.0</td>\n",
              "      <td>0.0</td>\n",
              "      <td>3.0</td>\n",
              "    </tr>\n",
              "  </tbody>\n",
              "</table>\n",
              "</div>"
            ],
            "text/plain": [
              "       Date     Time State/UnionTerritory  ... Cured Deaths  Confirmed\n",
              "0  30/01/20  6:00 PM               Kerala  ...   0.0    0.0        1.0\n",
              "1  31/01/20  6:00 PM               Kerala  ...   0.0    0.0        1.0\n",
              "2  01/02/20  6:00 PM               Kerala  ...   0.0    0.0        2.0\n",
              "3  02/02/20  6:00 PM               Kerala  ...   0.0    0.0        3.0\n",
              "4  03/02/20  6:00 PM               Kerala  ...   0.0    0.0        3.0\n",
              "\n",
              "[5 rows x 8 columns]"
            ]
          },
          "metadata": {
            "tags": []
          },
          "execution_count": 179
        }
      ]
    },
    {
      "cell_type": "code",
      "metadata": {
        "colab": {
          "base_uri": "https://localhost:8080/",
          "height": 221
        },
        "id": "C48t1sTXt1_r",
        "outputId": "e2c0d08b-1e94-4ba6-f0cd-223b000b2952"
      },
      "source": [
        "population_india_census2011.head()"
      ],
      "execution_count": 180,
      "outputs": [
        {
          "output_type": "execute_result",
          "data": {
            "text/html": [
              "<div>\n",
              "<style scoped>\n",
              "    .dataframe tbody tr th:only-of-type {\n",
              "        vertical-align: middle;\n",
              "    }\n",
              "\n",
              "    .dataframe tbody tr th {\n",
              "        vertical-align: top;\n",
              "    }\n",
              "\n",
              "    .dataframe thead th {\n",
              "        text-align: right;\n",
              "    }\n",
              "</style>\n",
              "<table border=\"1\" class=\"dataframe\">\n",
              "  <thead>\n",
              "    <tr style=\"text-align: right;\">\n",
              "      <th></th>\n",
              "      <th>State / Union Territory</th>\n",
              "      <th>Population</th>\n",
              "      <th>Rural population</th>\n",
              "      <th>Urban population</th>\n",
              "      <th>Area</th>\n",
              "      <th>Density</th>\n",
              "      <th>Gender Ratio</th>\n",
              "    </tr>\n",
              "  </thead>\n",
              "  <tbody>\n",
              "    <tr>\n",
              "      <th>0</th>\n",
              "      <td>Uttar Pradesh</td>\n",
              "      <td>199812341</td>\n",
              "      <td>155317278</td>\n",
              "      <td>44495063</td>\n",
              "      <td>240,928 km2 (93,023 sq mi)</td>\n",
              "      <td>828/km2 (2,140/sq mi)</td>\n",
              "      <td>912</td>\n",
              "    </tr>\n",
              "    <tr>\n",
              "      <th>1</th>\n",
              "      <td>Maharashtra</td>\n",
              "      <td>112374333</td>\n",
              "      <td>61556074</td>\n",
              "      <td>50818259</td>\n",
              "      <td>307,713 km2 (118,809 sq mi)</td>\n",
              "      <td>365/km2 (950/sq mi)</td>\n",
              "      <td>929</td>\n",
              "    </tr>\n",
              "    <tr>\n",
              "      <th>2</th>\n",
              "      <td>Bihar</td>\n",
              "      <td>104099452</td>\n",
              "      <td>92341436</td>\n",
              "      <td>11758016</td>\n",
              "      <td>94,163 km2 (36,357 sq mi)</td>\n",
              "      <td>1,102/km2 (2,850/sq mi)</td>\n",
              "      <td>918</td>\n",
              "    </tr>\n",
              "    <tr>\n",
              "      <th>3</th>\n",
              "      <td>West Bengal</td>\n",
              "      <td>91276115</td>\n",
              "      <td>62183113</td>\n",
              "      <td>29093002</td>\n",
              "      <td>88,752 km2 (34,267 sq mi)</td>\n",
              "      <td>1,029/km2 (2,670/sq mi)</td>\n",
              "      <td>953</td>\n",
              "    </tr>\n",
              "    <tr>\n",
              "      <th>4</th>\n",
              "      <td>Madhya Pradesh</td>\n",
              "      <td>72626809</td>\n",
              "      <td>52557404</td>\n",
              "      <td>20069405</td>\n",
              "      <td>308,245 km2 (119,014 sq mi)</td>\n",
              "      <td>236/km2 (610/sq mi)</td>\n",
              "      <td>931</td>\n",
              "    </tr>\n",
              "  </tbody>\n",
              "</table>\n",
              "</div>"
            ],
            "text/plain": [
              "  State / Union Territory  Population  ...                  Density  Gender Ratio\n",
              "0           Uttar Pradesh   199812341  ...    828/km2 (2,140/sq mi)           912\n",
              "1             Maharashtra   112374333  ...      365/km2 (950/sq mi)           929\n",
              "2                   Bihar   104099452  ...  1,102/km2 (2,850/sq mi)           918\n",
              "3             West Bengal    91276115  ...  1,029/km2 (2,670/sq mi)           953\n",
              "4          Madhya Pradesh    72626809  ...      236/km2 (610/sq mi)           931\n",
              "\n",
              "[5 rows x 7 columns]"
            ]
          },
          "metadata": {
            "tags": []
          },
          "execution_count": 180
        }
      ]
    },
    {
      "cell_type": "markdown",
      "metadata": {
        "id": "bczPG9Hp2_v5"
      },
      "source": [
        "Handling DateTime"
      ]
    },
    {
      "cell_type": "code",
      "metadata": {
        "id": "VkqAx_Pht32E"
      },
      "source": [
        "ICMRTestingDetails['Dates'] =  pd.to_datetime(ICMRTestingDetails['Dates'])\r\n",
        "covid_19_india['Date'] =  pd.to_datetime(covid_19_india['Date'])\r\n",
        "covid_19_india['Time'] =  pd.to_datetime(covid_19_india['Time'])"
      ],
      "execution_count": 181,
      "outputs": []
    },
    {
      "cell_type": "code",
      "metadata": {
        "colab": {
          "base_uri": "https://localhost:8080/",
          "height": 204
        },
        "id": "EK-Mnh8l4spr",
        "outputId": "9932d716-f69b-433c-a7b5-ff1134ba4907"
      },
      "source": [
        "ICMRTestingDetails.head()"
      ],
      "execution_count": 182,
      "outputs": [
        {
          "output_type": "execute_result",
          "data": {
            "text/html": [
              "<div>\n",
              "<style scoped>\n",
              "    .dataframe tbody tr th:only-of-type {\n",
              "        vertical-align: middle;\n",
              "    }\n",
              "\n",
              "    .dataframe tbody tr th {\n",
              "        vertical-align: top;\n",
              "    }\n",
              "\n",
              "    .dataframe thead th {\n",
              "        text-align: right;\n",
              "    }\n",
              "</style>\n",
              "<table border=\"1\" class=\"dataframe\">\n",
              "  <thead>\n",
              "    <tr style=\"text-align: right;\">\n",
              "      <th></th>\n",
              "      <th>TotalSamplesTested</th>\n",
              "      <th>TotalIndividualsTested</th>\n",
              "      <th>TotalPositiveCases</th>\n",
              "      <th>Dates</th>\n",
              "      <th>Time</th>\n",
              "    </tr>\n",
              "  </thead>\n",
              "  <tbody>\n",
              "    <tr>\n",
              "      <th>0</th>\n",
              "      <td>6500.0</td>\n",
              "      <td>5900.0</td>\n",
              "      <td>78.0</td>\n",
              "      <td>2020-03-13</td>\n",
              "      <td>18:00:00</td>\n",
              "    </tr>\n",
              "    <tr>\n",
              "      <th>1</th>\n",
              "      <td>13125.0</td>\n",
              "      <td>12235.0</td>\n",
              "      <td>150.0</td>\n",
              "      <td>2020-03-18</td>\n",
              "      <td>18:00:00</td>\n",
              "    </tr>\n",
              "    <tr>\n",
              "      <th>2</th>\n",
              "      <td>14175.0</td>\n",
              "      <td>13285.0</td>\n",
              "      <td>182.0</td>\n",
              "      <td>2020-03-19</td>\n",
              "      <td>18:00:00</td>\n",
              "    </tr>\n",
              "    <tr>\n",
              "      <th>3</th>\n",
              "      <td>15404.0</td>\n",
              "      <td>14514.0</td>\n",
              "      <td>236.0</td>\n",
              "      <td>2020-03-20</td>\n",
              "      <td>18:00:00</td>\n",
              "    </tr>\n",
              "    <tr>\n",
              "      <th>4</th>\n",
              "      <td>16911.0</td>\n",
              "      <td>16021.0</td>\n",
              "      <td>315.0</td>\n",
              "      <td>2020-03-21</td>\n",
              "      <td>18:00:00</td>\n",
              "    </tr>\n",
              "  </tbody>\n",
              "</table>\n",
              "</div>"
            ],
            "text/plain": [
              "   TotalSamplesTested  TotalIndividualsTested  ...      Dates      Time\n",
              "0              6500.0                  5900.0  ... 2020-03-13  18:00:00\n",
              "1             13125.0                 12235.0  ... 2020-03-18  18:00:00\n",
              "2             14175.0                 13285.0  ... 2020-03-19  18:00:00\n",
              "3             15404.0                 14514.0  ... 2020-03-20  18:00:00\n",
              "4             16911.0                 16021.0  ... 2020-03-21  18:00:00\n",
              "\n",
              "[5 rows x 5 columns]"
            ]
          },
          "metadata": {
            "tags": []
          },
          "execution_count": 182
        }
      ]
    },
    {
      "cell_type": "code",
      "metadata": {
        "colab": {
          "base_uri": "https://localhost:8080/",
          "height": 289
        },
        "id": "7tlzTJlw4x0T",
        "outputId": "89bfcc4b-f66c-417a-cc66-942460467e15"
      },
      "source": [
        "covid_19_india.head()"
      ],
      "execution_count": 183,
      "outputs": [
        {
          "output_type": "execute_result",
          "data": {
            "text/html": [
              "<div>\n",
              "<style scoped>\n",
              "    .dataframe tbody tr th:only-of-type {\n",
              "        vertical-align: middle;\n",
              "    }\n",
              "\n",
              "    .dataframe tbody tr th {\n",
              "        vertical-align: top;\n",
              "    }\n",
              "\n",
              "    .dataframe thead th {\n",
              "        text-align: right;\n",
              "    }\n",
              "</style>\n",
              "<table border=\"1\" class=\"dataframe\">\n",
              "  <thead>\n",
              "    <tr style=\"text-align: right;\">\n",
              "      <th></th>\n",
              "      <th>Date</th>\n",
              "      <th>Time</th>\n",
              "      <th>State/UnionTerritory</th>\n",
              "      <th>ConfirmedIndianNational</th>\n",
              "      <th>ConfirmedForeignNational</th>\n",
              "      <th>Cured</th>\n",
              "      <th>Deaths</th>\n",
              "      <th>Confirmed</th>\n",
              "    </tr>\n",
              "  </thead>\n",
              "  <tbody>\n",
              "    <tr>\n",
              "      <th>0</th>\n",
              "      <td>2020-01-30</td>\n",
              "      <td>2021-02-21 18:00:00</td>\n",
              "      <td>Kerala</td>\n",
              "      <td>1</td>\n",
              "      <td>0</td>\n",
              "      <td>0.0</td>\n",
              "      <td>0.0</td>\n",
              "      <td>1.0</td>\n",
              "    </tr>\n",
              "    <tr>\n",
              "      <th>1</th>\n",
              "      <td>2020-01-31</td>\n",
              "      <td>2021-02-21 18:00:00</td>\n",
              "      <td>Kerala</td>\n",
              "      <td>1</td>\n",
              "      <td>0</td>\n",
              "      <td>0.0</td>\n",
              "      <td>0.0</td>\n",
              "      <td>1.0</td>\n",
              "    </tr>\n",
              "    <tr>\n",
              "      <th>2</th>\n",
              "      <td>2020-01-02</td>\n",
              "      <td>2021-02-21 18:00:00</td>\n",
              "      <td>Kerala</td>\n",
              "      <td>2</td>\n",
              "      <td>0</td>\n",
              "      <td>0.0</td>\n",
              "      <td>0.0</td>\n",
              "      <td>2.0</td>\n",
              "    </tr>\n",
              "    <tr>\n",
              "      <th>3</th>\n",
              "      <td>2020-02-02</td>\n",
              "      <td>2021-02-21 18:00:00</td>\n",
              "      <td>Kerala</td>\n",
              "      <td>3</td>\n",
              "      <td>0</td>\n",
              "      <td>0.0</td>\n",
              "      <td>0.0</td>\n",
              "      <td>3.0</td>\n",
              "    </tr>\n",
              "    <tr>\n",
              "      <th>4</th>\n",
              "      <td>2020-03-02</td>\n",
              "      <td>2021-02-21 18:00:00</td>\n",
              "      <td>Kerala</td>\n",
              "      <td>3</td>\n",
              "      <td>0</td>\n",
              "      <td>0.0</td>\n",
              "      <td>0.0</td>\n",
              "      <td>3.0</td>\n",
              "    </tr>\n",
              "  </tbody>\n",
              "</table>\n",
              "</div>"
            ],
            "text/plain": [
              "        Date                Time State/UnionTerritory  ... Cured Deaths  Confirmed\n",
              "0 2020-01-30 2021-02-21 18:00:00               Kerala  ...   0.0    0.0        1.0\n",
              "1 2020-01-31 2021-02-21 18:00:00               Kerala  ...   0.0    0.0        1.0\n",
              "2 2020-01-02 2021-02-21 18:00:00               Kerala  ...   0.0    0.0        2.0\n",
              "3 2020-02-02 2021-02-21 18:00:00               Kerala  ...   0.0    0.0        3.0\n",
              "4 2020-03-02 2021-02-21 18:00:00               Kerala  ...   0.0    0.0        3.0\n",
              "\n",
              "[5 rows x 8 columns]"
            ]
          },
          "metadata": {
            "tags": []
          },
          "execution_count": 183
        }
      ]
    },
    {
      "cell_type": "markdown",
      "metadata": {
        "id": "vAFGo0395UUp"
      },
      "source": [
        "Handling Categorical data"
      ]
    },
    {
      "cell_type": "code",
      "metadata": {
        "id": "dwvvcfQq42_s"
      },
      "source": [
        "dataset = [AgeGroupDetails,HospitalBedsIndia,ICMRTestingDetails,ICMRTestingLabs,covid_19_india,population_india_census2011]"
      ],
      "execution_count": 184,
      "outputs": []
    },
    {
      "cell_type": "code",
      "metadata": {
        "colab": {
          "base_uri": "https://localhost:8080/"
        },
        "id": "rrLlwE1c4pg_",
        "outputId": "c88cf541-5a5b-46a5-f04e-d7a821a00bb4"
      },
      "source": [
        "AgeGroupDetails.info()"
      ],
      "execution_count": 185,
      "outputs": [
        {
          "output_type": "stream",
          "text": [
            "<class 'pandas.core.frame.DataFrame'>\n",
            "Int64Index: 9 entries, 0 to 8\n",
            "Data columns (total 3 columns):\n",
            " #   Column      Non-Null Count  Dtype  \n",
            "---  ------      --------------  -----  \n",
            " 0   AgeGroup    9 non-null      object \n",
            " 1   TotalCases  9 non-null      int64  \n",
            " 2   Percentage  9 non-null      float64\n",
            "dtypes: float64(1), int64(1), object(1)\n",
            "memory usage: 288.0+ bytes\n"
          ],
          "name": "stdout"
        }
      ]
    },
    {
      "cell_type": "code",
      "metadata": {
        "id": "DKByPzW95ID7"
      },
      "source": [
        "from sklearn.preprocessing import LabelEncoder"
      ],
      "execution_count": 186,
      "outputs": []
    },
    {
      "cell_type": "code",
      "metadata": {
        "id": "GsrayRSO5Wx2"
      },
      "source": [
        "df_cat = AgeGroupDetails.select_dtypes(object)\r\n",
        "df_num = AgeGroupDetails.select_dtypes(['float64','int64'])\r\n",
        "for col in df_cat:\r\n",
        "  le = LabelEncoder()\r\n",
        "  df_cat[col] = le.fit_transform(df_cat[col])\r\n",
        "AgeGroupDetails_New = pd.concat([df_num,df_cat],axis=1)"
      ],
      "execution_count": 187,
      "outputs": []
    },
    {
      "cell_type": "code",
      "metadata": {
        "id": "WGSPfzot5f7O"
      },
      "source": [
        "df_cat = HospitalBedsIndia.select_dtypes(object)\r\n",
        "df_num = HospitalBedsIndia.select_dtypes(['float64','int64'])\r\n",
        "for col in df_cat:\r\n",
        "  le = LabelEncoder()\r\n",
        "  df_cat[col] = le.fit_transform(df_cat[col])\r\n",
        "HospitalBedsIndia_New = pd.concat([df_num,df_cat],axis=1)"
      ],
      "execution_count": 188,
      "outputs": []
    },
    {
      "cell_type": "code",
      "metadata": {
        "id": "2Vxo8dfR5nxd"
      },
      "source": [
        "df_cat = ICMRTestingDetails.select_dtypes(object)\r\n",
        "df_num = ICMRTestingDetails.select_dtypes(['float64','int64'])\r\n",
        "for col in df_cat:\r\n",
        "  le = LabelEncoder()\r\n",
        "  df_cat[col] = le.fit_transform(df_cat[col])\r\n",
        "ICMRTestingDetails_New = pd.concat([df_num,df_cat],axis=1)"
      ],
      "execution_count": 189,
      "outputs": []
    },
    {
      "cell_type": "code",
      "metadata": {
        "id": "nPWG26Cl5unZ"
      },
      "source": [
        "df_cat = ICMRTestingLabs.select_dtypes(object)\r\n",
        "df_num = ICMRTestingLabs.select_dtypes(['float64','int64'])\r\n",
        "for col in df_cat:\r\n",
        "  le = LabelEncoder()\r\n",
        "  df_cat[col] = le.fit_transform(df_cat[col])\r\n",
        "ICMRTestingLabs_New = pd.concat([df_num,df_cat],axis=1)"
      ],
      "execution_count": 190,
      "outputs": []
    },
    {
      "cell_type": "code",
      "metadata": {
        "id": "MdkrsvV559X4"
      },
      "source": [
        "le = LabelEncoder()\r\n",
        "covid_19_india['State/UnionTerritory'] = le.fit_transform(covid_19_india['State/UnionTerritory'])"
      ],
      "execution_count": 191,
      "outputs": []
    },
    {
      "cell_type": "code",
      "metadata": {
        "id": "kNDPVYf26QQL"
      },
      "source": [
        "df_cat = population_india_census2011.select_dtypes(object)\r\n",
        "df_num = population_india_census2011.select_dtypes(['float64','int64'])\r\n",
        "for col in df_cat:\r\n",
        "  le = LabelEncoder()\r\n",
        "  df_cat[col] = le.fit_transform(df_cat[col])\r\n",
        "population_india_census2011_New = pd.concat([df_num,df_cat],axis=1)"
      ],
      "execution_count": 193,
      "outputs": []
    },
    {
      "cell_type": "code",
      "metadata": {
        "id": "Xmrfz9EM6XgT"
      },
      "source": [
        ""
      ],
      "execution_count": 192,
      "outputs": []
    }
  ]
}